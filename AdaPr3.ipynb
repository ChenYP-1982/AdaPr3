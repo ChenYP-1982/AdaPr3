{
  "cells": [
    {
      "cell_type": "code",
      "execution_count": 20,
      "metadata": {
        "id": "VDmATcIovUEV"
      },
      "outputs": [],
      "source": [
        "import pandas as pd\n",
        "import numpy as np\n",
        "from sklearn.model_selection import (train_test_split as tts,\n",
        "                                     cross_validate as cv,\n",
        "                                     RandomizedSearchCV as rscv)\n",
        "from sklearn.linear_model import LogisticRegression\n",
        "from sklearn.ensemble import (RandomForestClassifier,\n",
        "                              AdaBoostClassifier,\n",
        "                              GradientBoostingClassifier)\n",
        "from sklearn.pipeline import Pipeline\n",
        "from sklearn.compose import ColumnTransformer\n",
        "from sklearn.dummy import DummyClassifier\n",
        "from xgboost import XGBClassifier\n",
        "from sklearn.neural_network import MLPClassifier\n",
        "from sklearn.preprocessing import (OneHotEncoder,\n",
        "                                   OrdinalEncoder,\n",
        "                                   StandardScaler)\n",
        "\n",
        "from sklearn import metrics\n",
        "\n",
        "\n",
        "\n"
      ]
    },
    {
      "cell_type": "code",
      "execution_count": 5,
      "metadata": {
        "id": "jWkl9PSsJLkj"
      },
      "outputs": [],
      "source": [
        "def calculate_metrics(model, X, y):\n",
        "        y_pred = model.predict(X)\n",
        "\n",
        "        model_metrics = {\n",
        "        'accuracy': metrics.accuracy_score(y, y_pred),\n",
        "        'balanced_accuracy': metrics.balanced_accuracy_score(y, y_pred),\n",
        "        'precision': metrics.precision_score(y, y_pred),\n",
        "        'recall': metrics.recall_score(y, y_pred),\n",
        "        'f1': metrics.f1_score(y, y_pred),\n",
        "    }\n",
        "\n",
        "        try:\n",
        "            y_pred_proba = model.predict_proba(X)[:,1]\n",
        "            model_metrics['roc-auc'] = metrics.roc_auc_score(y, y_pred_proba)\n",
        "            return model_metrics\n",
        "        except:\n",
        "            return model_metrics"
      ]
    },
    {
      "cell_type": "code",
      "execution_count": 6,
      "metadata": {
        "colab": {
          "base_uri": "https://localhost:8080/",
          "height": 206
        },
        "id": "xpyCCpWgDbj3",
        "outputId": "c68b42f3-6a76-4a69-d37b-12da0b4e0545"
      },
      "outputs": [
        {
          "data": {
            "text/html": [
              "<div>\n",
              "<style scoped>\n",
              "    .dataframe tbody tr th:only-of-type {\n",
              "        vertical-align: middle;\n",
              "    }\n",
              "\n",
              "    .dataframe tbody tr th {\n",
              "        vertical-align: top;\n",
              "    }\n",
              "\n",
              "    .dataframe thead th {\n",
              "        text-align: right;\n",
              "    }\n",
              "</style>\n",
              "<table border=\"1\" class=\"dataframe\">\n",
              "  <thead>\n",
              "    <tr style=\"text-align: right;\">\n",
              "      <th></th>\n",
              "      <th>paciente_id</th>\n",
              "      <th>medico_id</th>\n",
              "      <th>sexo_paciente</th>\n",
              "      <th>especialidade</th>\n",
              "    </tr>\n",
              "  </thead>\n",
              "  <tbody>\n",
              "    <tr>\n",
              "      <th>0</th>\n",
              "      <td>2</td>\n",
              "      <td>100045/SP</td>\n",
              "      <td>Female</td>\n",
              "      <td>Psicologo</td>\n",
              "    </tr>\n",
              "    <tr>\n",
              "      <th>1</th>\n",
              "      <td>666</td>\n",
              "      <td>100038/RJ</td>\n",
              "      <td>Female</td>\n",
              "      <td>Oncologia</td>\n",
              "    </tr>\n",
              "    <tr>\n",
              "      <th>2</th>\n",
              "      <td>907</td>\n",
              "      <td>100085/SP</td>\n",
              "      <td>Female</td>\n",
              "      <td>Oftalmologia</td>\n",
              "    </tr>\n",
              "    <tr>\n",
              "      <th>3</th>\n",
              "      <td>607</td>\n",
              "      <td>100024/SP</td>\n",
              "      <td>Female</td>\n",
              "      <td>Cardiologista</td>\n",
              "    </tr>\n",
              "    <tr>\n",
              "      <th>4</th>\n",
              "      <td>275</td>\n",
              "      <td>100092/SP</td>\n",
              "      <td>Male</td>\n",
              "      <td>Ginecologista</td>\n",
              "    </tr>\n",
              "  </tbody>\n",
              "</table>\n",
              "</div>"
            ],
            "text/plain": [
              "   paciente_id  medico_id sexo_paciente  especialidade\n",
              "0            2  100045/SP        Female      Psicologo\n",
              "1          666  100038/RJ        Female      Oncologia\n",
              "2          907  100085/SP        Female   Oftalmologia\n",
              "3          607  100024/SP        Female  Cardiologista\n",
              "4          275  100092/SP          Male  Ginecologista"
            ]
          },
          "execution_count": 6,
          "metadata": {},
          "output_type": "execute_result"
        }
      ],
      "source": [
        "df = pd.read_csv(r\"dataset/sql_trabalho.csv\",usecols=[\"paciente_id\",\"medico_id\",\"sexo_paciente\",\"especialidade\"])\n",
        "df.head()"
      ]
    },
    {
      "cell_type": "code",
      "execution_count": 7,
      "metadata": {
        "colab": {
          "base_uri": "https://localhost:8080/",
          "height": 206
        },
        "id": "AB48EcoJBTus",
        "outputId": "010a079c-6ab1-421e-ecc1-2867c03d302c"
      },
      "outputs": [
        {
          "data": {
            "text/html": [
              "<div>\n",
              "<style scoped>\n",
              "    .dataframe tbody tr th:only-of-type {\n",
              "        vertical-align: middle;\n",
              "    }\n",
              "\n",
              "    .dataframe tbody tr th {\n",
              "        vertical-align: top;\n",
              "    }\n",
              "\n",
              "    .dataframe thead th {\n",
              "        text-align: right;\n",
              "    }\n",
              "</style>\n",
              "<table border=\"1\" class=\"dataframe\">\n",
              "  <thead>\n",
              "    <tr style=\"text-align: right;\">\n",
              "      <th></th>\n",
              "      <th>paciente_id</th>\n",
              "      <th>medico_id</th>\n",
              "      <th>sexo_paciente</th>\n",
              "      <th>especialidade</th>\n",
              "      <th>recomenda</th>\n",
              "    </tr>\n",
              "  </thead>\n",
              "  <tbody>\n",
              "    <tr>\n",
              "      <th>0</th>\n",
              "      <td>2</td>\n",
              "      <td>100045/SP</td>\n",
              "      <td>Female</td>\n",
              "      <td>Psicologo</td>\n",
              "      <td>0</td>\n",
              "    </tr>\n",
              "    <tr>\n",
              "      <th>1</th>\n",
              "      <td>666</td>\n",
              "      <td>100038/RJ</td>\n",
              "      <td>Female</td>\n",
              "      <td>Oncologia</td>\n",
              "      <td>0</td>\n",
              "    </tr>\n",
              "    <tr>\n",
              "      <th>2</th>\n",
              "      <td>907</td>\n",
              "      <td>100085/SP</td>\n",
              "      <td>Female</td>\n",
              "      <td>Oftalmologia</td>\n",
              "      <td>1</td>\n",
              "    </tr>\n",
              "    <tr>\n",
              "      <th>3</th>\n",
              "      <td>607</td>\n",
              "      <td>100024/SP</td>\n",
              "      <td>Female</td>\n",
              "      <td>Cardiologista</td>\n",
              "      <td>1</td>\n",
              "    </tr>\n",
              "    <tr>\n",
              "      <th>4</th>\n",
              "      <td>275</td>\n",
              "      <td>100092/SP</td>\n",
              "      <td>Male</td>\n",
              "      <td>Ginecologista</td>\n",
              "      <td>0</td>\n",
              "    </tr>\n",
              "  </tbody>\n",
              "</table>\n",
              "</div>"
            ],
            "text/plain": [
              "   paciente_id  medico_id sexo_paciente  especialidade  recomenda\n",
              "0            2  100045/SP        Female      Psicologo          0\n",
              "1          666  100038/RJ        Female      Oncologia          0\n",
              "2          907  100085/SP        Female   Oftalmologia          1\n",
              "3          607  100024/SP        Female  Cardiologista          1\n",
              "4          275  100092/SP          Male  Ginecologista          0"
            ]
          },
          "execution_count": 7,
          "metadata": {},
          "output_type": "execute_result"
        }
      ],
      "source": [
        "#criando dados sinteticos\n",
        "rand_num=np.random.choice(2,100_000,p=[0.4,0.6])\n",
        "df_like=pd.DataFrame(rand_num)\n",
        "df_like.columns=[\"recomenda\"]\n",
        "\n",
        "df=pd.concat([df,df_like],axis=1)\n",
        "df.head()"
      ]
    },
    {
      "cell_type": "code",
      "execution_count": 8,
      "metadata": {
        "colab": {
          "base_uri": "https://localhost:8080/",
          "height": 206
        },
        "id": "aZDiMVYSHc7E",
        "outputId": "8169b721-0d87-4af6-c4bf-22a48f6990da"
      },
      "outputs": [
        {
          "data": {
            "text/html": [
              "<div>\n",
              "<style scoped>\n",
              "    .dataframe tbody tr th:only-of-type {\n",
              "        vertical-align: middle;\n",
              "    }\n",
              "\n",
              "    .dataframe tbody tr th {\n",
              "        vertical-align: top;\n",
              "    }\n",
              "\n",
              "    .dataframe thead th {\n",
              "        text-align: right;\n",
              "    }\n",
              "</style>\n",
              "<table border=\"1\" class=\"dataframe\">\n",
              "  <thead>\n",
              "    <tr style=\"text-align: right;\">\n",
              "      <th></th>\n",
              "      <th>paciente_id</th>\n",
              "      <th>medico_id</th>\n",
              "      <th>sexo_paciente</th>\n",
              "      <th>especialidade</th>\n",
              "      <th>recomenda</th>\n",
              "      <th>idade</th>\n",
              "    </tr>\n",
              "  </thead>\n",
              "  <tbody>\n",
              "    <tr>\n",
              "      <th>0</th>\n",
              "      <td>2</td>\n",
              "      <td>100045/SP</td>\n",
              "      <td>Female</td>\n",
              "      <td>Psicologo</td>\n",
              "      <td>0</td>\n",
              "      <td>86</td>\n",
              "    </tr>\n",
              "    <tr>\n",
              "      <th>1</th>\n",
              "      <td>666</td>\n",
              "      <td>100038/RJ</td>\n",
              "      <td>Female</td>\n",
              "      <td>Oncologia</td>\n",
              "      <td>0</td>\n",
              "      <td>52</td>\n",
              "    </tr>\n",
              "    <tr>\n",
              "      <th>2</th>\n",
              "      <td>907</td>\n",
              "      <td>100085/SP</td>\n",
              "      <td>Female</td>\n",
              "      <td>Oftalmologia</td>\n",
              "      <td>1</td>\n",
              "      <td>45</td>\n",
              "    </tr>\n",
              "    <tr>\n",
              "      <th>3</th>\n",
              "      <td>607</td>\n",
              "      <td>100024/SP</td>\n",
              "      <td>Female</td>\n",
              "      <td>Cardiologista</td>\n",
              "      <td>1</td>\n",
              "      <td>19</td>\n",
              "    </tr>\n",
              "    <tr>\n",
              "      <th>4</th>\n",
              "      <td>275</td>\n",
              "      <td>100092/SP</td>\n",
              "      <td>Male</td>\n",
              "      <td>Ginecologista</td>\n",
              "      <td>0</td>\n",
              "      <td>82</td>\n",
              "    </tr>\n",
              "  </tbody>\n",
              "</table>\n",
              "</div>"
            ],
            "text/plain": [
              "   paciente_id  medico_id sexo_paciente  especialidade  recomenda  idade\n",
              "0            2  100045/SP        Female      Psicologo          0     86\n",
              "1          666  100038/RJ        Female      Oncologia          0     52\n",
              "2          907  100085/SP        Female   Oftalmologia          1     45\n",
              "3          607  100024/SP        Female  Cardiologista          1     19\n",
              "4          275  100092/SP          Male  Ginecologista          0     82"
            ]
          },
          "execution_count": 8,
          "metadata": {},
          "output_type": "execute_result"
        }
      ],
      "source": [
        "age=np.random.randint(18,99,100_000)\n",
        "df_age=pd.DataFrame(age)\n",
        "df_age.columns=[\"idade\"]\n",
        "\n",
        "df=pd.concat([df,df_age],axis=1)\n",
        "df.head()"
      ]
    },
    {
      "cell_type": "code",
      "execution_count": 9,
      "metadata": {
        "colab": {
          "base_uri": "https://localhost:8080/"
        },
        "id": "Ou0pCtdDCb_j",
        "outputId": "d161abcf-e4ba-4ae2-9610-53495945dae3"
      },
      "outputs": [
        {
          "data": {
            "text/plain": [
              "1    60076\n",
              "0    39924\n",
              "Name: recomenda, dtype: int64"
            ]
          },
          "execution_count": 9,
          "metadata": {},
          "output_type": "execute_result"
        }
      ],
      "source": [
        "# valor 1 para recomenda e 0 para nao recomenda\n",
        "df.recomenda.value_counts()"
      ]
    },
    {
      "cell_type": "code",
      "execution_count": 10,
      "metadata": {
        "id": "6DfThTnID_bY"
      },
      "outputs": [],
      "source": [
        "num_col=df.select_dtypes(\"number\").columns.to_list()\n",
        "cat_col=[col for col in df if col not in num_col]\n",
        "cat_col=[\n",
        "        #'medico_id',\n",
        "         'sexo_paciente',\n",
        "        'especialidade']"
      ]
    },
    {
      "cell_type": "code",
      "execution_count": 11,
      "metadata": {
        "id": "ZgJiZMq0G8_y"
      },
      "outputs": [],
      "source": [
        "num_col=[#'paciente_id',\n",
        "         #'recomenda',\n",
        "         'idade']\n",
        "x=cat_col+num_col\n",
        "y='recomenda'"
      ]
    },
    {
      "cell_type": "code",
      "execution_count": 12,
      "metadata": {
        "id": "33J5oBNkHRJ3"
      },
      "outputs": [],
      "source": [
        "X_train, X_test,y_train, y_test=tts(df[x], df[y], stratify=df[y], random_state=101,test_size=0.2 )"
      ]
    },
    {
      "cell_type": "code",
      "execution_count": 13,
      "metadata": {
        "id": "FVTMGZWRI-7u"
      },
      "outputs": [],
      "source": [
        "\n",
        "preprocessor=ColumnTransformer([\n",
        "    (\"scaler\",StandardScaler(), num_col),\n",
        "    (\"encoder\", OneHotEncoder(handle_unknown=\"ignore\"), cat_col)\n",
        "])\n",
        "pipe=Pipeline([\n",
        "    (\"preprocess\", preprocessor),\n",
        "    (\"model\",RandomForestClassifier(class_weight=\"balanced\", random_state=101))\n",
        "])"
      ]
    },
    {
      "cell_type": "code",
      "execution_count": 14,
      "metadata": {
        "colab": {
          "base_uri": "https://localhost:8080/",
          "height": 192
        },
        "id": "IOjPszohJt6h",
        "outputId": "caf0bd1c-ec9e-41a5-f087-6b29e00efc5d"
      },
      "outputs": [
        {
          "data": {
            "text/html": [
              "<style>#sk-container-id-1 {color: black;background-color: white;}#sk-container-id-1 pre{padding: 0;}#sk-container-id-1 div.sk-toggleable {background-color: white;}#sk-container-id-1 label.sk-toggleable__label {cursor: pointer;display: block;width: 100%;margin-bottom: 0;padding: 0.3em;box-sizing: border-box;text-align: center;}#sk-container-id-1 label.sk-toggleable__label-arrow:before {content: \"▸\";float: left;margin-right: 0.25em;color: #696969;}#sk-container-id-1 label.sk-toggleable__label-arrow:hover:before {color: black;}#sk-container-id-1 div.sk-estimator:hover label.sk-toggleable__label-arrow:before {color: black;}#sk-container-id-1 div.sk-toggleable__content {max-height: 0;max-width: 0;overflow: hidden;text-align: left;background-color: #f0f8ff;}#sk-container-id-1 div.sk-toggleable__content pre {margin: 0.2em;color: black;border-radius: 0.25em;background-color: #f0f8ff;}#sk-container-id-1 input.sk-toggleable__control:checked~div.sk-toggleable__content {max-height: 200px;max-width: 100%;overflow: auto;}#sk-container-id-1 input.sk-toggleable__control:checked~label.sk-toggleable__label-arrow:before {content: \"▾\";}#sk-container-id-1 div.sk-estimator input.sk-toggleable__control:checked~label.sk-toggleable__label {background-color: #d4ebff;}#sk-container-id-1 div.sk-label input.sk-toggleable__control:checked~label.sk-toggleable__label {background-color: #d4ebff;}#sk-container-id-1 input.sk-hidden--visually {border: 0;clip: rect(1px 1px 1px 1px);clip: rect(1px, 1px, 1px, 1px);height: 1px;margin: -1px;overflow: hidden;padding: 0;position: absolute;width: 1px;}#sk-container-id-1 div.sk-estimator {font-family: monospace;background-color: #f0f8ff;border: 1px dotted black;border-radius: 0.25em;box-sizing: border-box;margin-bottom: 0.5em;}#sk-container-id-1 div.sk-estimator:hover {background-color: #d4ebff;}#sk-container-id-1 div.sk-parallel-item::after {content: \"\";width: 100%;border-bottom: 1px solid gray;flex-grow: 1;}#sk-container-id-1 div.sk-label:hover label.sk-toggleable__label {background-color: #d4ebff;}#sk-container-id-1 div.sk-serial::before {content: \"\";position: absolute;border-left: 1px solid gray;box-sizing: border-box;top: 0;bottom: 0;left: 50%;z-index: 0;}#sk-container-id-1 div.sk-serial {display: flex;flex-direction: column;align-items: center;background-color: white;padding-right: 0.2em;padding-left: 0.2em;position: relative;}#sk-container-id-1 div.sk-item {position: relative;z-index: 1;}#sk-container-id-1 div.sk-parallel {display: flex;align-items: stretch;justify-content: center;background-color: white;position: relative;}#sk-container-id-1 div.sk-item::before, #sk-container-id-1 div.sk-parallel-item::before {content: \"\";position: absolute;border-left: 1px solid gray;box-sizing: border-box;top: 0;bottom: 0;left: 50%;z-index: -1;}#sk-container-id-1 div.sk-parallel-item {display: flex;flex-direction: column;z-index: 1;position: relative;background-color: white;}#sk-container-id-1 div.sk-parallel-item:first-child::after {align-self: flex-end;width: 50%;}#sk-container-id-1 div.sk-parallel-item:last-child::after {align-self: flex-start;width: 50%;}#sk-container-id-1 div.sk-parallel-item:only-child::after {width: 0;}#sk-container-id-1 div.sk-dashed-wrapped {border: 1px dashed gray;margin: 0 0.4em 0.5em 0.4em;box-sizing: border-box;padding-bottom: 0.4em;background-color: white;}#sk-container-id-1 div.sk-label label {font-family: monospace;font-weight: bold;display: inline-block;line-height: 1.2em;}#sk-container-id-1 div.sk-label-container {text-align: center;}#sk-container-id-1 div.sk-container {/* jupyter's `normalize.less` sets `[hidden] { display: none; }` but bootstrap.min.css set `[hidden] { display: none !important; }` so we also need the `!important` here to be able to override the default hidden behavior on the sphinx rendered scikit-learn.org. See: https://github.com/scikit-learn/scikit-learn/issues/21755 */display: inline-block !important;position: relative;}#sk-container-id-1 div.sk-text-repr-fallback {display: none;}</style><div id=\"sk-container-id-1\" class=\"sk-top-container\"><div class=\"sk-text-repr-fallback\"><pre>Pipeline(steps=[(&#x27;preprocess&#x27;,\n",
              "                 ColumnTransformer(transformers=[(&#x27;scaler&#x27;, StandardScaler(),\n",
              "                                                  [&#x27;idade&#x27;]),\n",
              "                                                 (&#x27;encoder&#x27;,\n",
              "                                                  OneHotEncoder(handle_unknown=&#x27;ignore&#x27;),\n",
              "                                                  [&#x27;sexo_paciente&#x27;,\n",
              "                                                   &#x27;especialidade&#x27;])])),\n",
              "                (&#x27;model&#x27;,\n",
              "                 RandomForestClassifier(class_weight=&#x27;balanced&#x27;,\n",
              "                                        random_state=101))])</pre><b>In a Jupyter environment, please rerun this cell to show the HTML representation or trust the notebook. <br />On GitHub, the HTML representation is unable to render, please try loading this page with nbviewer.org.</b></div><div class=\"sk-container\" hidden><div class=\"sk-item sk-dashed-wrapped\"><div class=\"sk-label-container\"><div class=\"sk-label sk-toggleable\"><input class=\"sk-toggleable__control sk-hidden--visually\" id=\"sk-estimator-id-1\" type=\"checkbox\" ><label for=\"sk-estimator-id-1\" class=\"sk-toggleable__label sk-toggleable__label-arrow\">Pipeline</label><div class=\"sk-toggleable__content\"><pre>Pipeline(steps=[(&#x27;preprocess&#x27;,\n",
              "                 ColumnTransformer(transformers=[(&#x27;scaler&#x27;, StandardScaler(),\n",
              "                                                  [&#x27;idade&#x27;]),\n",
              "                                                 (&#x27;encoder&#x27;,\n",
              "                                                  OneHotEncoder(handle_unknown=&#x27;ignore&#x27;),\n",
              "                                                  [&#x27;sexo_paciente&#x27;,\n",
              "                                                   &#x27;especialidade&#x27;])])),\n",
              "                (&#x27;model&#x27;,\n",
              "                 RandomForestClassifier(class_weight=&#x27;balanced&#x27;,\n",
              "                                        random_state=101))])</pre></div></div></div><div class=\"sk-serial\"><div class=\"sk-item sk-dashed-wrapped\"><div class=\"sk-label-container\"><div class=\"sk-label sk-toggleable\"><input class=\"sk-toggleable__control sk-hidden--visually\" id=\"sk-estimator-id-2\" type=\"checkbox\" ><label for=\"sk-estimator-id-2\" class=\"sk-toggleable__label sk-toggleable__label-arrow\">preprocess: ColumnTransformer</label><div class=\"sk-toggleable__content\"><pre>ColumnTransformer(transformers=[(&#x27;scaler&#x27;, StandardScaler(), [&#x27;idade&#x27;]),\n",
              "                                (&#x27;encoder&#x27;,\n",
              "                                 OneHotEncoder(handle_unknown=&#x27;ignore&#x27;),\n",
              "                                 [&#x27;sexo_paciente&#x27;, &#x27;especialidade&#x27;])])</pre></div></div></div><div class=\"sk-parallel\"><div class=\"sk-parallel-item\"><div class=\"sk-item\"><div class=\"sk-label-container\"><div class=\"sk-label sk-toggleable\"><input class=\"sk-toggleable__control sk-hidden--visually\" id=\"sk-estimator-id-3\" type=\"checkbox\" ><label for=\"sk-estimator-id-3\" class=\"sk-toggleable__label sk-toggleable__label-arrow\">scaler</label><div class=\"sk-toggleable__content\"><pre>[&#x27;idade&#x27;]</pre></div></div></div><div class=\"sk-serial\"><div class=\"sk-item\"><div class=\"sk-estimator sk-toggleable\"><input class=\"sk-toggleable__control sk-hidden--visually\" id=\"sk-estimator-id-4\" type=\"checkbox\" ><label for=\"sk-estimator-id-4\" class=\"sk-toggleable__label sk-toggleable__label-arrow\">StandardScaler</label><div class=\"sk-toggleable__content\"><pre>StandardScaler()</pre></div></div></div></div></div></div><div class=\"sk-parallel-item\"><div class=\"sk-item\"><div class=\"sk-label-container\"><div class=\"sk-label sk-toggleable\"><input class=\"sk-toggleable__control sk-hidden--visually\" id=\"sk-estimator-id-5\" type=\"checkbox\" ><label for=\"sk-estimator-id-5\" class=\"sk-toggleable__label sk-toggleable__label-arrow\">encoder</label><div class=\"sk-toggleable__content\"><pre>[&#x27;sexo_paciente&#x27;, &#x27;especialidade&#x27;]</pre></div></div></div><div class=\"sk-serial\"><div class=\"sk-item\"><div class=\"sk-estimator sk-toggleable\"><input class=\"sk-toggleable__control sk-hidden--visually\" id=\"sk-estimator-id-6\" type=\"checkbox\" ><label for=\"sk-estimator-id-6\" class=\"sk-toggleable__label sk-toggleable__label-arrow\">OneHotEncoder</label><div class=\"sk-toggleable__content\"><pre>OneHotEncoder(handle_unknown=&#x27;ignore&#x27;)</pre></div></div></div></div></div></div></div></div><div class=\"sk-item\"><div class=\"sk-estimator sk-toggleable\"><input class=\"sk-toggleable__control sk-hidden--visually\" id=\"sk-estimator-id-7\" type=\"checkbox\" ><label for=\"sk-estimator-id-7\" class=\"sk-toggleable__label sk-toggleable__label-arrow\">RandomForestClassifier</label><div class=\"sk-toggleable__content\"><pre>RandomForestClassifier(class_weight=&#x27;balanced&#x27;, random_state=101)</pre></div></div></div></div></div></div></div>"
            ],
            "text/plain": [
              "Pipeline(steps=[('preprocess',\n",
              "                 ColumnTransformer(transformers=[('scaler', StandardScaler(),\n",
              "                                                  ['idade']),\n",
              "                                                 ('encoder',\n",
              "                                                  OneHotEncoder(handle_unknown='ignore'),\n",
              "                                                  ['sexo_paciente',\n",
              "                                                   'especialidade'])])),\n",
              "                ('model',\n",
              "                 RandomForestClassifier(class_weight='balanced',\n",
              "                                        random_state=101))])"
            ]
          },
          "execution_count": 14,
          "metadata": {},
          "output_type": "execute_result"
        }
      ],
      "source": [
        "pipe.fit(X_train, y_train)"
      ]
    },
    {
      "cell_type": "code",
      "execution_count": 15,
      "metadata": {
        "colab": {
          "base_uri": "https://localhost:8080/"
        },
        "id": "0Xtyjdz-KJwV",
        "outputId": "393ccaba-c5aa-4c78-aaed-f134d95d93e5"
      },
      "outputs": [
        {
          "data": {
            "text/plain": [
              "{'accuracy': 0.50125,\n",
              " 'balanced_accuracy': 0.4970603433247577,\n",
              " 'precision': 0.5980392156862745,\n",
              " 'recall': 0.517852684144819,\n",
              " 'f1': 0.5550649003077746,\n",
              " 'roc-auc': 0.4955760163081475}"
            ]
          },
          "execution_count": 15,
          "metadata": {},
          "output_type": "execute_result"
        }
      ],
      "source": [
        "calculate_metrics(pipe, X_test,y_test)"
      ]
    },
    {
      "cell_type": "code",
      "execution_count": 16,
      "metadata": {
        "colab": {
          "base_uri": "https://localhost:8080/"
        },
        "id": "ZQc73YI9KPhK",
        "outputId": "85326ac8-9896-4674-eecc-9fa2da623e57"
      },
      "outputs": [
        {
          "name": "stdout",
          "output_type": "stream",
          "text": [
            "dummy DummyClassifier()\n",
            "[{'accuracy': 0.60075, 'balanced_accuracy': 0.5, 'precision': 0.60075, 'recall': 1.0, 'f1': 0.7505856629704826, 'roc-auc': 0.5}]\n",
            "rf RandomForestClassifier(class_weight='balanced', random_state=101)\n",
            "[{'accuracy': 0.60075, 'balanced_accuracy': 0.5, 'precision': 0.60075, 'recall': 1.0, 'f1': 0.7505856629704826, 'roc-auc': 0.5}, {'accuracy': 0.50125, 'balanced_accuracy': 0.4970603433247577, 'precision': 0.5980392156862745, 'recall': 0.517852684144819, 'f1': 0.5550649003077746, 'roc-auc': 0.4955760163081475}]\n",
            "ada AdaBoostClassifier(random_state=101)\n",
            "[{'accuracy': 0.60075, 'balanced_accuracy': 0.5, 'precision': 0.60075, 'recall': 1.0, 'f1': 0.7505856629704826, 'roc-auc': 0.5}, {'accuracy': 0.50125, 'balanced_accuracy': 0.4970603433247577, 'precision': 0.5980392156862745, 'recall': 0.517852684144819, 'f1': 0.5550649003077746, 'roc-auc': 0.4955760163081475}, {'accuracy': 0.60075, 'balanced_accuracy': 0.5, 'precision': 0.60075, 'recall': 1.0, 'f1': 0.7505856629704826, 'roc-auc': 0.4958901039740817}]\n",
            "lr LogisticRegression(class_weight='balanced', random_state=101)\n",
            "[{'accuracy': 0.60075, 'balanced_accuracy': 0.5, 'precision': 0.60075, 'recall': 1.0, 'f1': 0.7505856629704826, 'roc-auc': 0.5}, {'accuracy': 0.50125, 'balanced_accuracy': 0.4970603433247577, 'precision': 0.5980392156862745, 'recall': 0.517852684144819, 'f1': 0.5550649003077746, 'roc-auc': 0.4955760163081475}, {'accuracy': 0.60075, 'balanced_accuracy': 0.5, 'precision': 0.60075, 'recall': 1.0, 'f1': 0.7505856629704826, 'roc-auc': 0.4958901039740817}, {'accuracy': 0.50435, 'balanced_accuracy': 0.5010686391540943, 'precision': 0.6017424975798644, 'recall': 0.5173533083645443, 'f1': 0.5563660774222421, 'roc-auc': 0.501479386417156}]\n",
            "gbc GradientBoostingClassifier(random_state=101)\n",
            "[{'accuracy': 0.60075, 'balanced_accuracy': 0.5, 'precision': 0.60075, 'recall': 1.0, 'f1': 0.7505856629704826, 'roc-auc': 0.5}, {'accuracy': 0.50125, 'balanced_accuracy': 0.4970603433247577, 'precision': 0.5980392156862745, 'recall': 0.517852684144819, 'f1': 0.5550649003077746, 'roc-auc': 0.4955760163081475}, {'accuracy': 0.60075, 'balanced_accuracy': 0.5, 'precision': 0.60075, 'recall': 1.0, 'f1': 0.7505856629704826, 'roc-auc': 0.4958901039740817}, {'accuracy': 0.50435, 'balanced_accuracy': 0.5010686391540943, 'precision': 0.6017424975798644, 'recall': 0.5173533083645443, 'f1': 0.5563660774222421, 'roc-auc': 0.501479386417156}, {'accuracy': 0.60075, 'balanced_accuracy': 0.5001050137964155, 'precision': 0.6008004002001001, 'recall': 0.9995838535164377, 'f1': 0.7505077331666927, 'roc-auc': 0.49455959741410693}]\n",
            "neural MLPClassifier(alpha=1e-05, hidden_layer_sizes=(5, 2), random_state=101,\n",
            "              solver='lbfgs')\n",
            "[{'accuracy': 0.60075, 'balanced_accuracy': 0.5, 'precision': 0.60075, 'recall': 1.0, 'f1': 0.7505856629704826, 'roc-auc': 0.5}, {'accuracy': 0.50125, 'balanced_accuracy': 0.4970603433247577, 'precision': 0.5980392156862745, 'recall': 0.517852684144819, 'f1': 0.5550649003077746, 'roc-auc': 0.4955760163081475}, {'accuracy': 0.60075, 'balanced_accuracy': 0.5, 'precision': 0.60075, 'recall': 1.0, 'f1': 0.7505856629704826, 'roc-auc': 0.4958901039740817}, {'accuracy': 0.50435, 'balanced_accuracy': 0.5010686391540943, 'precision': 0.6017424975798644, 'recall': 0.5173533083645443, 'f1': 0.5563660774222421, 'roc-auc': 0.501479386417156}, {'accuracy': 0.60075, 'balanced_accuracy': 0.5001050137964155, 'precision': 0.6008004002001001, 'recall': 0.9995838535164377, 'f1': 0.7505077331666927, 'roc-auc': 0.49455959741410693}, {'accuracy': 0.60075, 'balanced_accuracy': 0.5, 'precision': 0.60075, 'recall': 1.0, 'f1': 0.7505856629704826, 'roc-auc': 0.4996056901321688}]\n",
            "xgb XGBClassifier(base_score=None, booster=None, callbacks=None,\n",
            "              colsample_bylevel=None, colsample_bynode=None,\n",
            "              colsample_bytree=None, device=None, early_stopping_rounds=None,\n",
            "              enable_categorical=False, eval_metric=None, feature_types=None,\n",
            "              gamma=None, grow_policy=None, importance_type=None,\n",
            "              interaction_constraints=None, learning_rate=None, max_bin=None,\n",
            "              max_cat_threshold=None, max_cat_to_onehot=None,\n",
            "              max_delta_step=None, max_depth=None, max_leaves=None,\n",
            "              min_child_weight=None, missing=nan, monotone_constraints=None,\n",
            "              multi_strategy=None, n_estimators=None, n_jobs=None,\n",
            "              num_parallel_tree=None, random_state=101, ...)\n",
            "[{'accuracy': 0.60075, 'balanced_accuracy': 0.5, 'precision': 0.60075, 'recall': 1.0, 'f1': 0.7505856629704826, 'roc-auc': 0.5}, {'accuracy': 0.50125, 'balanced_accuracy': 0.4970603433247577, 'precision': 0.5980392156862745, 'recall': 0.517852684144819, 'f1': 0.5550649003077746, 'roc-auc': 0.4955760163081475}, {'accuracy': 0.60075, 'balanced_accuracy': 0.5, 'precision': 0.60075, 'recall': 1.0, 'f1': 0.7505856629704826, 'roc-auc': 0.4958901039740817}, {'accuracy': 0.50435, 'balanced_accuracy': 0.5010686391540943, 'precision': 0.6017424975798644, 'recall': 0.5173533083645443, 'f1': 0.5563660774222421, 'roc-auc': 0.501479386417156}, {'accuracy': 0.60075, 'balanced_accuracy': 0.5001050137964155, 'precision': 0.6008004002001001, 'recall': 0.9995838535164377, 'f1': 0.7505077331666927, 'roc-auc': 0.49455959741410693}, {'accuracy': 0.60075, 'balanced_accuracy': 0.5, 'precision': 0.60075, 'recall': 1.0, 'f1': 0.7505856629704826, 'roc-auc': 0.4996056901321688}, {'accuracy': 0.5927, 'balanced_accuracy': 0.49779463210123226, 'precision': 0.599659986605533, 'recall': 0.968789013732834, 'f1': 0.7407878826449437, 'roc-auc': 0.4982001990311109}]\n"
          ]
        }
      ],
      "source": [
        "model={\n",
        "    \"dummy\":DummyClassifier(),\n",
        "    \"rf\":RandomForestClassifier(class_weight=\"balanced\", random_state=101),\n",
        "    \"ada\":AdaBoostClassifier(random_state=101),\n",
        "    \"lr\":LogisticRegression(class_weight=\"balanced\", random_state=101),\n",
        "    \"gbc\":GradientBoostingClassifier(random_state=101),\n",
        "    \"neural\":MLPClassifier(alpha=1e-05, hidden_layer_sizes=(5, 2), random_state=101,\n",
        "              solver='lbfgs'),\n",
        "    \"xgb\":XGBClassifier(random_state=101)\n",
        "\n",
        "}\n",
        "results=[]\n",
        "for model_name , modelo in model.items():\n",
        "  print(model_name, modelo)\n",
        "  pipe.set_params(model=modelo).fit(X_train,y_train)\n",
        "  result=calculate_metrics(pipe, X_test,y_test)\n",
        "  results.append(result)\n",
        "  print(results)"
      ]
    },
    {
      "cell_type": "code",
      "execution_count": 17,
      "metadata": {
        "colab": {
          "base_uri": "https://localhost:8080/",
          "height": 237
        },
        "id": "zAMQLf4GLtQe",
        "outputId": "9db7f581-71f7-425f-8af9-aaac72078dfa"
      },
      "outputs": [
        {
          "data": {
            "text/html": [
              "<div>\n",
              "<style scoped>\n",
              "    .dataframe tbody tr th:only-of-type {\n",
              "        vertical-align: middle;\n",
              "    }\n",
              "\n",
              "    .dataframe tbody tr th {\n",
              "        vertical-align: top;\n",
              "    }\n",
              "\n",
              "    .dataframe thead th {\n",
              "        text-align: right;\n",
              "    }\n",
              "</style>\n",
              "<table border=\"1\" class=\"dataframe\">\n",
              "  <thead>\n",
              "    <tr style=\"text-align: right;\">\n",
              "      <th></th>\n",
              "      <th>dummy</th>\n",
              "      <th>rf</th>\n",
              "      <th>ada</th>\n",
              "      <th>lr</th>\n",
              "      <th>gbc</th>\n",
              "      <th>neural</th>\n",
              "      <th>xgboost</th>\n",
              "    </tr>\n",
              "  </thead>\n",
              "  <tbody>\n",
              "    <tr>\n",
              "      <th>accuracy</th>\n",
              "      <td>0.600750</td>\n",
              "      <td>0.501250</td>\n",
              "      <td>0.600750</td>\n",
              "      <td>0.504350</td>\n",
              "      <td>0.600750</td>\n",
              "      <td>0.600750</td>\n",
              "      <td>0.592700</td>\n",
              "    </tr>\n",
              "    <tr>\n",
              "      <th>balanced_accuracy</th>\n",
              "      <td>0.500000</td>\n",
              "      <td>0.497060</td>\n",
              "      <td>0.500000</td>\n",
              "      <td>0.501069</td>\n",
              "      <td>0.500105</td>\n",
              "      <td>0.500000</td>\n",
              "      <td>0.497795</td>\n",
              "    </tr>\n",
              "    <tr>\n",
              "      <th>precision</th>\n",
              "      <td>0.600750</td>\n",
              "      <td>0.598039</td>\n",
              "      <td>0.600750</td>\n",
              "      <td>0.601742</td>\n",
              "      <td>0.600800</td>\n",
              "      <td>0.600750</td>\n",
              "      <td>0.599660</td>\n",
              "    </tr>\n",
              "    <tr>\n",
              "      <th>recall</th>\n",
              "      <td>1.000000</td>\n",
              "      <td>0.517853</td>\n",
              "      <td>1.000000</td>\n",
              "      <td>0.517353</td>\n",
              "      <td>0.999584</td>\n",
              "      <td>1.000000</td>\n",
              "      <td>0.968789</td>\n",
              "    </tr>\n",
              "    <tr>\n",
              "      <th>f1</th>\n",
              "      <td>0.750586</td>\n",
              "      <td>0.555065</td>\n",
              "      <td>0.750586</td>\n",
              "      <td>0.556366</td>\n",
              "      <td>0.750508</td>\n",
              "      <td>0.750586</td>\n",
              "      <td>0.740788</td>\n",
              "    </tr>\n",
              "    <tr>\n",
              "      <th>roc-auc</th>\n",
              "      <td>0.500000</td>\n",
              "      <td>0.495576</td>\n",
              "      <td>0.495890</td>\n",
              "      <td>0.501479</td>\n",
              "      <td>0.494560</td>\n",
              "      <td>0.499606</td>\n",
              "      <td>0.498200</td>\n",
              "    </tr>\n",
              "  </tbody>\n",
              "</table>\n",
              "</div>"
            ],
            "text/plain": [
              "                      dummy        rf       ada        lr       gbc    neural  \\\n",
              "accuracy           0.600750  0.501250  0.600750  0.504350  0.600750  0.600750   \n",
              "balanced_accuracy  0.500000  0.497060  0.500000  0.501069  0.500105  0.500000   \n",
              "precision          0.600750  0.598039  0.600750  0.601742  0.600800  0.600750   \n",
              "recall             1.000000  0.517853  1.000000  0.517353  0.999584  1.000000   \n",
              "f1                 0.750586  0.555065  0.750586  0.556366  0.750508  0.750586   \n",
              "roc-auc            0.500000  0.495576  0.495890  0.501479  0.494560  0.499606   \n",
              "\n",
              "                    xgboost  \n",
              "accuracy           0.592700  \n",
              "balanced_accuracy  0.497795  \n",
              "precision          0.599660  \n",
              "recall             0.968789  \n",
              "f1                 0.740788  \n",
              "roc-auc            0.498200  "
            ]
          },
          "execution_count": 17,
          "metadata": {},
          "output_type": "execute_result"
        }
      ],
      "source": [
        "df_results=pd.DataFrame(results).T\n",
        "df_results.columns=[\n",
        "    'dummy',\n",
        "    'rf',\n",
        "    'ada',\n",
        "    'lr',\n",
        "    \"gbc\",\n",
        "    \"neural\",\n",
        "    \"xgboost\"\n",
        "]\n",
        "\n",
        "df_results\n"
      ]
    },
    {
      "cell_type": "code",
      "execution_count": 18,
      "metadata": {
        "colab": {
          "base_uri": "https://localhost:8080/"
        },
        "id": "uQewNxbdlSaX",
        "outputId": "91958192-4993-4324-98d7-0e4a88320970"
      },
      "outputs": [
        {
          "name": "stdout",
          "output_type": "stream",
          "text": [
            "dummy DummyClassifier()\n"
          ]
        },
        {
          "name": "stdout",
          "output_type": "stream",
          "text": [
            "rf RandomForestClassifier(class_weight='balanced', random_state=101)\n",
            "ada AdaBoostClassifier(random_state=101)\n",
            "lr LogisticRegression(class_weight='balanced', random_state=101)\n",
            "gbc GradientBoostingClassifier(random_state=101)\n",
            "neural MLPClassifier(alpha=1e-05, hidden_layer_sizes=(5, 2), random_state=101,\n",
            "              solver='lbfgs')\n",
            "xgb XGBClassifier(base_score=None, booster=None, callbacks=None,\n",
            "              colsample_bylevel=None, colsample_bynode=None,\n",
            "              colsample_bytree=None, device=None, early_stopping_rounds=None,\n",
            "              enable_categorical=False, eval_metric=None, feature_types=None,\n",
            "              gamma=None, grow_policy=None, importance_type=None,\n",
            "              interaction_constraints=None, learning_rate=None, max_bin=None,\n",
            "              max_cat_threshold=None, max_cat_to_onehot=None,\n",
            "              max_delta_step=None, max_depth=None, max_leaves=None,\n",
            "              min_child_weight=None, missing=nan, monotone_constraints=None,\n",
            "              multi_strategy=None, n_estimators=None, n_jobs=None,\n",
            "              num_parallel_tree=None, random_state=101, ...)\n"
          ]
        }
      ],
      "source": [
        "model={\n",
        "    \"dummy\":DummyClassifier(),\n",
        "    \"rf\":RandomForestClassifier(class_weight=\"balanced\", random_state=101),\n",
        "    \"ada\":AdaBoostClassifier(random_state=101),\n",
        "    \"lr\":LogisticRegression(class_weight=\"balanced\", random_state=101),\n",
        "    \"gbc\":GradientBoostingClassifier(random_state=101),\n",
        "    \"neural\":MLPClassifier(alpha=1e-05, hidden_layer_sizes=(5, 2), random_state=101,\n",
        "              solver='lbfgs'),\n",
        "    \"xgb\":XGBClassifier(random_state=101)\n",
        "\n",
        "}\n",
        "\n",
        "cross_results=[]\n",
        "for model_name, modelo in model.items():\n",
        "  print(model_name, modelo)\n",
        "  pipe.set_params(model=modelo)\n",
        "  cross=cv(pipe, X_train, y_train, n_jobs=-1, cv=5, scoring=[\"precision\", \"accuracy\", \"f1\",\"recall\", \"roc_auc\" ])\n",
        "  cross_result=pd.DataFrame(cross).mean().to_frame(model_name).T\n",
        "  cross_results.append(cross_result)\n",
        "\n",
        "\n",
        "  df_cross=pd.concat(cross_results)"
      ]
    },
    {
      "cell_type": "code",
      "execution_count": 19,
      "metadata": {
        "colab": {
          "base_uri": "https://localhost:8080/",
          "height": 300
        },
        "id": "QFIG4YzFnPX2",
        "outputId": "5fb986f4-2420-400c-8019-f43e5b7b61dc"
      },
      "outputs": [
        {
          "data": {
            "text/html": [
              "<div>\n",
              "<style scoped>\n",
              "    .dataframe tbody tr th:only-of-type {\n",
              "        vertical-align: middle;\n",
              "    }\n",
              "\n",
              "    .dataframe tbody tr th {\n",
              "        vertical-align: top;\n",
              "    }\n",
              "\n",
              "    .dataframe thead th {\n",
              "        text-align: right;\n",
              "    }\n",
              "</style>\n",
              "<table border=\"1\" class=\"dataframe\">\n",
              "  <thead>\n",
              "    <tr style=\"text-align: right;\">\n",
              "      <th></th>\n",
              "      <th>fit_time</th>\n",
              "      <th>score_time</th>\n",
              "      <th>test_precision</th>\n",
              "      <th>test_accuracy</th>\n",
              "      <th>test_f1</th>\n",
              "      <th>test_recall</th>\n",
              "      <th>test_roc_auc</th>\n",
              "    </tr>\n",
              "  </thead>\n",
              "  <tbody>\n",
              "    <tr>\n",
              "      <th>dummy</th>\n",
              "      <td>0.170965</td>\n",
              "      <td>0.134675</td>\n",
              "      <td>0.600762</td>\n",
              "      <td>0.600762</td>\n",
              "      <td>0.750595</td>\n",
              "      <td>1.000000</td>\n",
              "      <td>0.500000</td>\n",
              "    </tr>\n",
              "    <tr>\n",
              "      <th>rf</th>\n",
              "      <td>61.284516</td>\n",
              "      <td>1.472302</td>\n",
              "      <td>0.599816</td>\n",
              "      <td>0.502962</td>\n",
              "      <td>0.556348</td>\n",
              "      <td>0.518757</td>\n",
              "      <td>0.498871</td>\n",
              "    </tr>\n",
              "    <tr>\n",
              "      <th>ada</th>\n",
              "      <td>4.425528</td>\n",
              "      <td>0.710525</td>\n",
              "      <td>0.600762</td>\n",
              "      <td>0.600762</td>\n",
              "      <td>0.750595</td>\n",
              "      <td>1.000000</td>\n",
              "      <td>0.500929</td>\n",
              "    </tr>\n",
              "    <tr>\n",
              "      <th>lr</th>\n",
              "      <td>0.361638</td>\n",
              "      <td>0.175963</td>\n",
              "      <td>0.599399</td>\n",
              "      <td>0.500613</td>\n",
              "      <td>0.550359</td>\n",
              "      <td>0.508853</td>\n",
              "      <td>0.501140</td>\n",
              "    </tr>\n",
              "    <tr>\n",
              "      <th>gbc</th>\n",
              "      <td>13.391862</td>\n",
              "      <td>0.388331</td>\n",
              "      <td>0.600829</td>\n",
              "      <td>0.600625</td>\n",
              "      <td>0.750301</td>\n",
              "      <td>0.998772</td>\n",
              "      <td>0.500432</td>\n",
              "    </tr>\n",
              "    <tr>\n",
              "      <th>neural</th>\n",
              "      <td>1.384054</td>\n",
              "      <td>0.175329</td>\n",
              "      <td>0.600762</td>\n",
              "      <td>0.600762</td>\n",
              "      <td>0.750595</td>\n",
              "      <td>1.000000</td>\n",
              "      <td>0.501411</td>\n",
              "    </tr>\n",
              "    <tr>\n",
              "      <th>xgb</th>\n",
              "      <td>2.097452</td>\n",
              "      <td>0.809344</td>\n",
              "      <td>0.600527</td>\n",
              "      <td>0.591875</td>\n",
              "      <td>0.738197</td>\n",
              "      <td>0.957762</td>\n",
              "      <td>0.500081</td>\n",
              "    </tr>\n",
              "  </tbody>\n",
              "</table>\n",
              "</div>"
            ],
            "text/plain": [
              "         fit_time  score_time  test_precision  test_accuracy   test_f1  \\\n",
              "dummy    0.170965    0.134675        0.600762       0.600762  0.750595   \n",
              "rf      61.284516    1.472302        0.599816       0.502962  0.556348   \n",
              "ada      4.425528    0.710525        0.600762       0.600762  0.750595   \n",
              "lr       0.361638    0.175963        0.599399       0.500613  0.550359   \n",
              "gbc     13.391862    0.388331        0.600829       0.600625  0.750301   \n",
              "neural   1.384054    0.175329        0.600762       0.600762  0.750595   \n",
              "xgb      2.097452    0.809344        0.600527       0.591875  0.738197   \n",
              "\n",
              "        test_recall  test_roc_auc  \n",
              "dummy      1.000000      0.500000  \n",
              "rf         0.518757      0.498871  \n",
              "ada        1.000000      0.500929  \n",
              "lr         0.508853      0.501140  \n",
              "gbc        0.998772      0.500432  \n",
              "neural     1.000000      0.501411  \n",
              "xgb        0.957762      0.500081  "
            ]
          },
          "execution_count": 19,
          "metadata": {},
          "output_type": "execute_result"
        }
      ],
      "source": [
        "df_cross=pd.concat(cross_results)\n",
        "df_cross"
      ]
    },
    {
      "cell_type": "code",
      "execution_count": 21,
      "metadata": {},
      "outputs": [],
      "source": [
        "pipe_xgb=Pipeline([\n",
        "    (\"preprocess\",preprocessor),\n",
        "    (\"model\",XGBClassifier(random_state=101, is_unbalanced=True))\n",
        "])\n",
        "pipe_xgb\n",
        "\n",
        "\n",
        "params={\n",
        "    'model__is_unbalaced':[True],\n",
        "    'model__learning_rate' : [0.05,0.1, 0.3],\n",
        "    'model__max_depth' : [ 2, 15],\n",
        "  }"
      ]
    },
    {
      "cell_type": "code",
      "execution_count": 23,
      "metadata": {},
      "outputs": [
        {
          "name": "stdout",
          "output_type": "stream",
          "text": [
            "Fitting 5 folds for each of 6 candidates, totalling 30 fits\n"
          ]
        },
        {
          "name": "stderr",
          "output_type": "stream",
          "text": [
            "/Users/chenyenpin/opt/anaconda3/envs/stenv/lib/python3.8/site-packages/sklearn/model_selection/_search.py:305: UserWarning: The total space of parameters 6 is smaller than n_iter=10. Running 6 iterations. For exhaustive searches, use GridSearchCV.\n",
            "  warnings.warn(\n",
            "/Users/chenyenpin/opt/anaconda3/envs/stenv/lib/python3.8/site-packages/xgboost/core.py:160: UserWarning: [14:49:58] WARNING: /Users/runner/work/xgboost/xgboost/src/learner.cc:742: \n",
            "Parameters: { \"is_unbalaced\", \"is_unbalanced\" } are not used.\n",
            "\n",
            "  warnings.warn(smsg, UserWarning)\n",
            "/Users/chenyenpin/opt/anaconda3/envs/stenv/lib/python3.8/site-packages/xgboost/core.py:160: UserWarning: [14:49:58] WARNING: /Users/runner/work/xgboost/xgboost/src/learner.cc:742: \n",
            "Parameters: { \"is_unbalaced\", \"is_unbalanced\" } are not used.\n",
            "\n",
            "  warnings.warn(smsg, UserWarning)\n",
            "/Users/chenyenpin/opt/anaconda3/envs/stenv/lib/python3.8/site-packages/xgboost/core.py:160: UserWarning: [14:49:58] WARNING: /Users/runner/work/xgboost/xgboost/src/learner.cc:742: \n",
            "Parameters: { \"is_unbalaced\", \"is_unbalanced\" } are not used.\n",
            "\n",
            "  warnings.warn(smsg, UserWarning)\n",
            "/Users/chenyenpin/opt/anaconda3/envs/stenv/lib/python3.8/site-packages/xgboost/core.py:160: UserWarning: [14:49:59] WARNING: /Users/runner/work/xgboost/xgboost/src/learner.cc:742: \n",
            "Parameters: { \"is_unbalaced\", \"is_unbalanced\" } are not used.\n",
            "\n",
            "  warnings.warn(smsg, UserWarning)\n",
            "/Users/chenyenpin/opt/anaconda3/envs/stenv/lib/python3.8/site-packages/xgboost/core.py:160: UserWarning: [14:50:01] WARNING: /Users/runner/work/xgboost/xgboost/src/learner.cc:742: \n",
            "Parameters: { \"is_unbalaced\", \"is_unbalanced\" } are not used.\n",
            "\n",
            "  warnings.warn(smsg, UserWarning)\n",
            "/Users/chenyenpin/opt/anaconda3/envs/stenv/lib/python3.8/site-packages/xgboost/core.py:160: UserWarning: [14:50:01] WARNING: /Users/runner/work/xgboost/xgboost/src/learner.cc:742: \n",
            "Parameters: { \"is_unbalaced\", \"is_unbalanced\" } are not used.\n",
            "\n",
            "  warnings.warn(smsg, UserWarning)\n",
            "/Users/chenyenpin/opt/anaconda3/envs/stenv/lib/python3.8/site-packages/xgboost/core.py:160: UserWarning: [14:50:01] WARNING: /Users/runner/work/xgboost/xgboost/src/learner.cc:742: \n",
            "Parameters: { \"is_unbalaced\", \"is_unbalanced\" } are not used.\n",
            "\n",
            "  warnings.warn(smsg, UserWarning)\n",
            "/Users/chenyenpin/opt/anaconda3/envs/stenv/lib/python3.8/site-packages/xgboost/core.py:160: UserWarning: [14:50:01] WARNING: /Users/runner/work/xgboost/xgboost/src/learner.cc:742: \n",
            "Parameters: { \"is_unbalaced\", \"is_unbalanced\" } are not used.\n",
            "\n",
            "  warnings.warn(smsg, UserWarning)\n",
            "/Users/chenyenpin/opt/anaconda3/envs/stenv/lib/python3.8/site-packages/xgboost/core.py:160: UserWarning: [14:50:04] WARNING: /Users/runner/work/xgboost/xgboost/src/learner.cc:742: \n",
            "Parameters: { \"is_unbalaced\", \"is_unbalanced\" } are not used.\n",
            "\n",
            "  warnings.warn(smsg, UserWarning)\n",
            "/Users/chenyenpin/opt/anaconda3/envs/stenv/lib/python3.8/site-packages/xgboost/core.py:160: UserWarning: [14:50:14] WARNING: /Users/runner/work/xgboost/xgboost/src/learner.cc:742: \n",
            "Parameters: { \"is_unbalaced\", \"is_unbalanced\" } are not used.\n",
            "\n",
            "  warnings.warn(smsg, UserWarning)\n",
            "/Users/chenyenpin/opt/anaconda3/envs/stenv/lib/python3.8/site-packages/xgboost/core.py:160: UserWarning: [14:50:14] WARNING: /Users/runner/work/xgboost/xgboost/src/learner.cc:742: \n",
            "Parameters: { \"is_unbalaced\", \"is_unbalanced\" } are not used.\n",
            "\n",
            "  warnings.warn(smsg, UserWarning)\n",
            "/Users/chenyenpin/opt/anaconda3/envs/stenv/lib/python3.8/site-packages/xgboost/core.py:160: UserWarning: [14:50:15] WARNING: /Users/runner/work/xgboost/xgboost/src/learner.cc:742: \n",
            "Parameters: { \"is_unbalaced\", \"is_unbalanced\" } are not used.\n",
            "\n",
            "  warnings.warn(smsg, UserWarning)\n",
            "/Users/chenyenpin/opt/anaconda3/envs/stenv/lib/python3.8/site-packages/xgboost/core.py:160: UserWarning: [14:50:16] WARNING: /Users/runner/work/xgboost/xgboost/src/learner.cc:742: \n",
            "Parameters: { \"is_unbalaced\", \"is_unbalanced\" } are not used.\n",
            "\n",
            "  warnings.warn(smsg, UserWarning)\n",
            "/Users/chenyenpin/opt/anaconda3/envs/stenv/lib/python3.8/site-packages/xgboost/core.py:160: UserWarning: [14:50:16] WARNING: /Users/runner/work/xgboost/xgboost/src/learner.cc:742: \n",
            "Parameters: { \"is_unbalaced\", \"is_unbalanced\" } are not used.\n",
            "\n",
            "  warnings.warn(smsg, UserWarning)\n",
            "/Users/chenyenpin/opt/anaconda3/envs/stenv/lib/python3.8/site-packages/xgboost/core.py:160: UserWarning: [14:50:16] WARNING: /Users/runner/work/xgboost/xgboost/src/learner.cc:742: \n",
            "Parameters: { \"is_unbalaced\", \"is_unbalanced\" } are not used.\n",
            "\n",
            "  warnings.warn(smsg, UserWarning)\n",
            "/Users/chenyenpin/opt/anaconda3/envs/stenv/lib/python3.8/site-packages/xgboost/core.py:160: UserWarning: [14:50:17] WARNING: /Users/runner/work/xgboost/xgboost/src/learner.cc:742: \n",
            "Parameters: { \"is_unbalaced\", \"is_unbalanced\" } are not used.\n",
            "\n",
            "  warnings.warn(smsg, UserWarning)\n",
            "/Users/chenyenpin/opt/anaconda3/envs/stenv/lib/python3.8/site-packages/xgboost/core.py:160: UserWarning: [14:50:17] WARNING: /Users/runner/work/xgboost/xgboost/src/learner.cc:742: \n",
            "Parameters: { \"is_unbalaced\", \"is_unbalanced\" } are not used.\n",
            "\n",
            "  warnings.warn(smsg, UserWarning)\n",
            "/Users/chenyenpin/opt/anaconda3/envs/stenv/lib/python3.8/site-packages/xgboost/core.py:160: UserWarning: [14:50:18] WARNING: /Users/runner/work/xgboost/xgboost/src/learner.cc:742: \n",
            "Parameters: { \"is_unbalaced\", \"is_unbalanced\" } are not used.\n",
            "\n",
            "  warnings.warn(smsg, UserWarning)\n",
            "/Users/chenyenpin/opt/anaconda3/envs/stenv/lib/python3.8/site-packages/xgboost/core.py:160: UserWarning: [14:50:23] WARNING: /Users/runner/work/xgboost/xgboost/src/learner.cc:742: \n",
            "Parameters: { \"is_unbalaced\", \"is_unbalanced\" } are not used.\n",
            "\n",
            "  warnings.warn(smsg, UserWarning)\n",
            "/Users/chenyenpin/opt/anaconda3/envs/stenv/lib/python3.8/site-packages/xgboost/core.py:160: UserWarning: [14:50:26] WARNING: /Users/runner/work/xgboost/xgboost/src/learner.cc:742: \n",
            "Parameters: { \"is_unbalaced\", \"is_unbalanced\" } are not used.\n",
            "\n",
            "  warnings.warn(smsg, UserWarning)\n",
            "/Users/chenyenpin/opt/anaconda3/envs/stenv/lib/python3.8/site-packages/xgboost/core.py:160: UserWarning: [14:50:26] WARNING: /Users/runner/work/xgboost/xgboost/src/learner.cc:742: \n",
            "Parameters: { \"is_unbalaced\", \"is_unbalanced\" } are not used.\n",
            "\n",
            "  warnings.warn(smsg, UserWarning)\n",
            "/Users/chenyenpin/opt/anaconda3/envs/stenv/lib/python3.8/site-packages/xgboost/core.py:160: UserWarning: [14:50:26] WARNING: /Users/runner/work/xgboost/xgboost/src/learner.cc:742: \n",
            "Parameters: { \"is_unbalaced\", \"is_unbalanced\" } are not used.\n",
            "\n",
            "  warnings.warn(smsg, UserWarning)\n",
            "/Users/chenyenpin/opt/anaconda3/envs/stenv/lib/python3.8/site-packages/xgboost/core.py:160: UserWarning: [14:50:28] WARNING: /Users/runner/work/xgboost/xgboost/src/learner.cc:742: \n",
            "Parameters: { \"is_unbalaced\", \"is_unbalanced\" } are not used.\n",
            "\n",
            "  warnings.warn(smsg, UserWarning)\n",
            "/Users/chenyenpin/opt/anaconda3/envs/stenv/lib/python3.8/site-packages/xgboost/core.py:160: UserWarning: [14:50:28] WARNING: /Users/runner/work/xgboost/xgboost/src/learner.cc:742: \n",
            "Parameters: { \"is_unbalaced\", \"is_unbalanced\" } are not used.\n",
            "\n",
            "  warnings.warn(smsg, UserWarning)\n",
            "/Users/chenyenpin/opt/anaconda3/envs/stenv/lib/python3.8/site-packages/xgboost/core.py:160: UserWarning: [14:50:29] WARNING: /Users/runner/work/xgboost/xgboost/src/learner.cc:742: \n",
            "Parameters: { \"is_unbalaced\", \"is_unbalanced\" } are not used.\n",
            "\n",
            "  warnings.warn(smsg, UserWarning)\n",
            "/Users/chenyenpin/opt/anaconda3/envs/stenv/lib/python3.8/site-packages/xgboost/core.py:160: UserWarning: [14:50:29] WARNING: /Users/runner/work/xgboost/xgboost/src/learner.cc:742: \n",
            "Parameters: { \"is_unbalaced\", \"is_unbalanced\" } are not used.\n",
            "\n",
            "  warnings.warn(smsg, UserWarning)\n",
            "/Users/chenyenpin/opt/anaconda3/envs/stenv/lib/python3.8/site-packages/xgboost/core.py:160: UserWarning: [14:50:31] WARNING: /Users/runner/work/xgboost/xgboost/src/learner.cc:742: \n",
            "Parameters: { \"is_unbalaced\", \"is_unbalanced\" } are not used.\n",
            "\n",
            "  warnings.warn(smsg, UserWarning)\n",
            "/Users/chenyenpin/opt/anaconda3/envs/stenv/lib/python3.8/site-packages/xgboost/core.py:160: UserWarning: [14:50:32] WARNING: /Users/runner/work/xgboost/xgboost/src/learner.cc:742: \n",
            "Parameters: { \"is_unbalaced\", \"is_unbalanced\" } are not used.\n",
            "\n",
            "  warnings.warn(smsg, UserWarning)\n",
            "/Users/chenyenpin/opt/anaconda3/envs/stenv/lib/python3.8/site-packages/xgboost/core.py:160: UserWarning: [14:50:34] WARNING: /Users/runner/work/xgboost/xgboost/src/learner.cc:742: \n",
            "Parameters: { \"is_unbalaced\", \"is_unbalanced\" } are not used.\n",
            "\n",
            "  warnings.warn(smsg, UserWarning)\n",
            "/Users/chenyenpin/opt/anaconda3/envs/stenv/lib/python3.8/site-packages/xgboost/core.py:160: UserWarning: [14:50:35] WARNING: /Users/runner/work/xgboost/xgboost/src/learner.cc:742: \n",
            "Parameters: { \"is_unbalaced\", \"is_unbalanced\" } are not used.\n",
            "\n",
            "  warnings.warn(smsg, UserWarning)\n"
          ]
        }
      ],
      "source": [
        "final_random=rscv(pipe_xgb,param_distributions=params, cv=5, scoring=\"precision\", n_jobs=-1, verbose=True)\n",
        "final_random.fit(X_train,y_train)"
      ]
    },
    {
      "cell_type": "code",
      "execution_count": null,
      "metadata": {},
      "outputs": [],
      "source": []
    }
  ],
  "metadata": {
    "colab": {
      "provenance": []
    },
    "kernelspec": {
      "display_name": "Python 3",
      "name": "python3"
    },
    "language_info": {
      "codemirror_mode": {
        "name": "ipython",
        "version": 3
      },
      "file_extension": ".py",
      "mimetype": "text/x-python",
      "name": "python",
      "nbconvert_exporter": "python",
      "pygments_lexer": "ipython3",
      "version": "3.8.18"
    }
  },
  "nbformat": 4,
  "nbformat_minor": 0
}

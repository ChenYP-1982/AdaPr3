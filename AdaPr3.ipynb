{
  "cells": [
    {
      "cell_type": "code",
      "execution_count": 2,
      "metadata": {
        "id": "VDmATcIovUEV"
      },
      "outputs": [],
      "source": [
        "import pandas as pd\n",
        "import numpy as np\n",
        "from sklearn.model_selection import (train_test_split as tts,\n",
        "                                     cross_validate as cv,\n",
        "                                     RandomizedSearchCV as rscv)\n",
        "from sklearn.linear_model import LogisticRegression\n",
        "from sklearn.ensemble import (RandomForestClassifier,\n",
        "                              AdaBoostClassifier,\n",
        "                              GradientBoostingClassifier)\n",
        "from sklearn.pipeline import Pipeline\n",
        "from sklearn.compose import ColumnTransformer\n",
        "from sklearn.dummy import DummyClassifier\n",
        "\n",
        "from sklearn.neural_network import MLPClassifier\n",
        "from sklearn.preprocessing import (OneHotEncoder,\n",
        "                                  \n",
        "                                   StandardScaler)\n",
        "\n",
        "from sklearn import metrics\n",
        "\n",
        "import pickle \n",
        "import warnings\n",
        "warnings.filterwarnings(\"ignore\")\n",
        "\n",
        "\n"
      ]
    },
    {
      "cell_type": "code",
      "execution_count": null,
      "metadata": {
        "id": "jWkl9PSsJLkj"
      },
      "outputs": [
        {
          "ename": "",
          "evalue": "",
          "output_type": "error",
          "traceback": [
            "\u001b[1;31mnotebook controller is DISPOSED. \n",
            "\u001b[1;31mView Jupyter <a href='command:jupyter.viewOutput'>log</a> for further details."
          ]
        },
        {
          "ename": "",
          "evalue": "",
          "output_type": "error",
          "traceback": [
            "\u001b[1;31mnotebook controller is DISPOSED. \n",
            "\u001b[1;31mView Jupyter <a href='command:jupyter.viewOutput'>log</a> for further details."
          ]
        }
      ],
      "source": [
        "def calculate_metrics(model, X, y):\n",
        "        y_pred = model.predict(X)\n",
        "\n",
        "        model_metrics = {\n",
        "        'accuracy': metrics.accuracy_score(y, y_pred),\n",
        "        'balanced_accuracy': metrics.balanced_accuracy_score(y, y_pred),\n",
        "        'precision': metrics.precision_score(y, y_pred),\n",
        "        'recall': metrics.recall_score(y, y_pred),\n",
        "        'f1': metrics.f1_score(y, y_pred),\n",
        "    }\n",
        "\n",
        "        try:\n",
        "            y_pred_proba = model.predict_proba(X)[:,1]\n",
        "            model_metrics['roc-auc'] = metrics.roc_auc_score(y, y_pred_proba)\n",
        "            return model_metrics\n",
        "        except:\n",
        "            return model_metrics"
      ]
    },
    {
      "cell_type": "code",
      "execution_count": null,
      "metadata": {
        "colab": {
          "base_uri": "https://localhost:8080/",
          "height": 206
        },
        "id": "xpyCCpWgDbj3",
        "outputId": "c68b42f3-6a76-4a69-d37b-12da0b4e0545"
      },
      "outputs": [
        {
          "data": {
            "text/html": [
              "<div>\n",
              "<style scoped>\n",
              "    .dataframe tbody tr th:only-of-type {\n",
              "        vertical-align: middle;\n",
              "    }\n",
              "\n",
              "    .dataframe tbody tr th {\n",
              "        vertical-align: top;\n",
              "    }\n",
              "\n",
              "    .dataframe thead th {\n",
              "        text-align: right;\n",
              "    }\n",
              "</style>\n",
              "<table border=\"1\" class=\"dataframe\">\n",
              "  <thead>\n",
              "    <tr style=\"text-align: right;\">\n",
              "      <th></th>\n",
              "      <th>paciente_id</th>\n",
              "      <th>medico_id</th>\n",
              "      <th>sexo_paciente</th>\n",
              "      <th>especialidade</th>\n",
              "    </tr>\n",
              "  </thead>\n",
              "  <tbody>\n",
              "    <tr>\n",
              "      <th>0</th>\n",
              "      <td>2</td>\n",
              "      <td>100045/SP</td>\n",
              "      <td>Female</td>\n",
              "      <td>Psicologo</td>\n",
              "    </tr>\n",
              "    <tr>\n",
              "      <th>1</th>\n",
              "      <td>666</td>\n",
              "      <td>100038/RJ</td>\n",
              "      <td>Female</td>\n",
              "      <td>Oncologia</td>\n",
              "    </tr>\n",
              "    <tr>\n",
              "      <th>2</th>\n",
              "      <td>907</td>\n",
              "      <td>100085/SP</td>\n",
              "      <td>Female</td>\n",
              "      <td>Oftalmologia</td>\n",
              "    </tr>\n",
              "    <tr>\n",
              "      <th>3</th>\n",
              "      <td>607</td>\n",
              "      <td>100024/SP</td>\n",
              "      <td>Female</td>\n",
              "      <td>Cardiologista</td>\n",
              "    </tr>\n",
              "    <tr>\n",
              "      <th>4</th>\n",
              "      <td>275</td>\n",
              "      <td>100092/SP</td>\n",
              "      <td>Male</td>\n",
              "      <td>Ginecologista</td>\n",
              "    </tr>\n",
              "  </tbody>\n",
              "</table>\n",
              "</div>"
            ],
            "text/plain": [
              "   paciente_id  medico_id sexo_paciente  especialidade\n",
              "0            2  100045/SP        Female      Psicologo\n",
              "1          666  100038/RJ        Female      Oncologia\n",
              "2          907  100085/SP        Female   Oftalmologia\n",
              "3          607  100024/SP        Female  Cardiologista\n",
              "4          275  100092/SP          Male  Ginecologista"
            ]
          },
          "execution_count": 31,
          "metadata": {},
          "output_type": "execute_result"
        },
        {
          "ename": "",
          "evalue": "",
          "output_type": "error",
          "traceback": [
            "\u001b[1;31mnotebook controller is DISPOSED. \n",
            "\u001b[1;31mView Jupyter <a href='command:jupyter.viewOutput'>log</a> for further details."
          ]
        },
        {
          "ename": "",
          "evalue": "",
          "output_type": "error",
          "traceback": [
            "\u001b[1;31mnotebook controller is DISPOSED. \n",
            "\u001b[1;31mView Jupyter <a href='command:jupyter.viewOutput'>log</a> for further details."
          ]
        }
      ],
      "source": [
        "df = pd.read_csv(r\"dataset/sql_trabalho.csv\",usecols=[\"paciente_id\",\"medico_id\",\"sexo_paciente\",\"especialidade\"])\n",
        "df.head()"
      ]
    },
    {
      "cell_type": "code",
      "execution_count": null,
      "metadata": {
        "colab": {
          "base_uri": "https://localhost:8080/",
          "height": 206
        },
        "id": "AB48EcoJBTus",
        "outputId": "010a079c-6ab1-421e-ecc1-2867c03d302c"
      },
      "outputs": [
        {
          "data": {
            "text/html": [
              "<div>\n",
              "<style scoped>\n",
              "    .dataframe tbody tr th:only-of-type {\n",
              "        vertical-align: middle;\n",
              "    }\n",
              "\n",
              "    .dataframe tbody tr th {\n",
              "        vertical-align: top;\n",
              "    }\n",
              "\n",
              "    .dataframe thead th {\n",
              "        text-align: right;\n",
              "    }\n",
              "</style>\n",
              "<table border=\"1\" class=\"dataframe\">\n",
              "  <thead>\n",
              "    <tr style=\"text-align: right;\">\n",
              "      <th></th>\n",
              "      <th>paciente_id</th>\n",
              "      <th>medico_id</th>\n",
              "      <th>sexo_paciente</th>\n",
              "      <th>especialidade</th>\n",
              "      <th>recomenda</th>\n",
              "    </tr>\n",
              "  </thead>\n",
              "  <tbody>\n",
              "    <tr>\n",
              "      <th>0</th>\n",
              "      <td>2</td>\n",
              "      <td>100045/SP</td>\n",
              "      <td>Female</td>\n",
              "      <td>Psicologo</td>\n",
              "      <td>0</td>\n",
              "    </tr>\n",
              "    <tr>\n",
              "      <th>1</th>\n",
              "      <td>666</td>\n",
              "      <td>100038/RJ</td>\n",
              "      <td>Female</td>\n",
              "      <td>Oncologia</td>\n",
              "      <td>1</td>\n",
              "    </tr>\n",
              "    <tr>\n",
              "      <th>2</th>\n",
              "      <td>907</td>\n",
              "      <td>100085/SP</td>\n",
              "      <td>Female</td>\n",
              "      <td>Oftalmologia</td>\n",
              "      <td>0</td>\n",
              "    </tr>\n",
              "    <tr>\n",
              "      <th>3</th>\n",
              "      <td>607</td>\n",
              "      <td>100024/SP</td>\n",
              "      <td>Female</td>\n",
              "      <td>Cardiologista</td>\n",
              "      <td>0</td>\n",
              "    </tr>\n",
              "    <tr>\n",
              "      <th>4</th>\n",
              "      <td>275</td>\n",
              "      <td>100092/SP</td>\n",
              "      <td>Male</td>\n",
              "      <td>Ginecologista</td>\n",
              "      <td>1</td>\n",
              "    </tr>\n",
              "  </tbody>\n",
              "</table>\n",
              "</div>"
            ],
            "text/plain": [
              "   paciente_id  medico_id sexo_paciente  especialidade  recomenda\n",
              "0            2  100045/SP        Female      Psicologo          0\n",
              "1          666  100038/RJ        Female      Oncologia          1\n",
              "2          907  100085/SP        Female   Oftalmologia          0\n",
              "3          607  100024/SP        Female  Cardiologista          0\n",
              "4          275  100092/SP          Male  Ginecologista          1"
            ]
          },
          "execution_count": 32,
          "metadata": {},
          "output_type": "execute_result"
        },
        {
          "ename": "",
          "evalue": "",
          "output_type": "error",
          "traceback": [
            "\u001b[1;31mnotebook controller is DISPOSED. \n",
            "\u001b[1;31mView Jupyter <a href='command:jupyter.viewOutput'>log</a> for further details."
          ]
        },
        {
          "ename": "",
          "evalue": "",
          "output_type": "error",
          "traceback": [
            "\u001b[1;31mnotebook controller is DISPOSED. \n",
            "\u001b[1;31mView Jupyter <a href='command:jupyter.viewOutput'>log</a> for further details."
          ]
        }
      ],
      "source": [
        "#criando dados sinteticos\n",
        "rand_num=np.random.choice(2,100_000,p=[0.4,0.6])\n",
        "df_like=pd.DataFrame(rand_num)\n",
        "df_like.columns=[\"recomenda\"]\n",
        "\n",
        "df=pd.concat([df,df_like],axis=1)\n",
        "df.head()"
      ]
    },
    {
      "cell_type": "code",
      "execution_count": null,
      "metadata": {
        "colab": {
          "base_uri": "https://localhost:8080/",
          "height": 206
        },
        "id": "aZDiMVYSHc7E",
        "outputId": "8169b721-0d87-4af6-c4bf-22a48f6990da"
      },
      "outputs": [
        {
          "data": {
            "text/html": [
              "<div>\n",
              "<style scoped>\n",
              "    .dataframe tbody tr th:only-of-type {\n",
              "        vertical-align: middle;\n",
              "    }\n",
              "\n",
              "    .dataframe tbody tr th {\n",
              "        vertical-align: top;\n",
              "    }\n",
              "\n",
              "    .dataframe thead th {\n",
              "        text-align: right;\n",
              "    }\n",
              "</style>\n",
              "<table border=\"1\" class=\"dataframe\">\n",
              "  <thead>\n",
              "    <tr style=\"text-align: right;\">\n",
              "      <th></th>\n",
              "      <th>paciente_id</th>\n",
              "      <th>medico_id</th>\n",
              "      <th>sexo_paciente</th>\n",
              "      <th>especialidade</th>\n",
              "      <th>recomenda</th>\n",
              "      <th>idade</th>\n",
              "    </tr>\n",
              "  </thead>\n",
              "  <tbody>\n",
              "    <tr>\n",
              "      <th>0</th>\n",
              "      <td>2</td>\n",
              "      <td>100045/SP</td>\n",
              "      <td>Female</td>\n",
              "      <td>Psicologo</td>\n",
              "      <td>0</td>\n",
              "      <td>28</td>\n",
              "    </tr>\n",
              "    <tr>\n",
              "      <th>1</th>\n",
              "      <td>666</td>\n",
              "      <td>100038/RJ</td>\n",
              "      <td>Female</td>\n",
              "      <td>Oncologia</td>\n",
              "      <td>1</td>\n",
              "      <td>65</td>\n",
              "    </tr>\n",
              "    <tr>\n",
              "      <th>2</th>\n",
              "      <td>907</td>\n",
              "      <td>100085/SP</td>\n",
              "      <td>Female</td>\n",
              "      <td>Oftalmologia</td>\n",
              "      <td>0</td>\n",
              "      <td>97</td>\n",
              "    </tr>\n",
              "    <tr>\n",
              "      <th>3</th>\n",
              "      <td>607</td>\n",
              "      <td>100024/SP</td>\n",
              "      <td>Female</td>\n",
              "      <td>Cardiologista</td>\n",
              "      <td>0</td>\n",
              "      <td>48</td>\n",
              "    </tr>\n",
              "    <tr>\n",
              "      <th>4</th>\n",
              "      <td>275</td>\n",
              "      <td>100092/SP</td>\n",
              "      <td>Male</td>\n",
              "      <td>Ginecologista</td>\n",
              "      <td>1</td>\n",
              "      <td>87</td>\n",
              "    </tr>\n",
              "  </tbody>\n",
              "</table>\n",
              "</div>"
            ],
            "text/plain": [
              "   paciente_id  medico_id sexo_paciente  especialidade  recomenda  idade\n",
              "0            2  100045/SP        Female      Psicologo          0     28\n",
              "1          666  100038/RJ        Female      Oncologia          1     65\n",
              "2          907  100085/SP        Female   Oftalmologia          0     97\n",
              "3          607  100024/SP        Female  Cardiologista          0     48\n",
              "4          275  100092/SP          Male  Ginecologista          1     87"
            ]
          },
          "execution_count": 33,
          "metadata": {},
          "output_type": "execute_result"
        },
        {
          "ename": "",
          "evalue": "",
          "output_type": "error",
          "traceback": [
            "\u001b[1;31mnotebook controller is DISPOSED. \n",
            "\u001b[1;31mView Jupyter <a href='command:jupyter.viewOutput'>log</a> for further details."
          ]
        },
        {
          "ename": "",
          "evalue": "",
          "output_type": "error",
          "traceback": [
            "\u001b[1;31mnotebook controller is DISPOSED. \n",
            "\u001b[1;31mView Jupyter <a href='command:jupyter.viewOutput'>log</a> for further details."
          ]
        }
      ],
      "source": [
        "age=np.random.randint(18,99,100_000)\n",
        "df_age=pd.DataFrame(age)\n",
        "df_age.columns=[\"idade\"]\n",
        "\n",
        "df=pd.concat([df,df_age],axis=1)\n",
        "df.head()"
      ]
    },
    {
      "cell_type": "code",
      "execution_count": null,
      "metadata": {},
      "outputs": [
        {
          "data": {
            "text/plain": [
              "array(['Female', 'Male'], dtype=object)"
            ]
          },
          "execution_count": 34,
          "metadata": {},
          "output_type": "execute_result"
        },
        {
          "ename": "",
          "evalue": "",
          "output_type": "error",
          "traceback": [
            "\u001b[1;31mnotebook controller is DISPOSED. \n",
            "\u001b[1;31mView Jupyter <a href='command:jupyter.viewOutput'>log</a> for further details."
          ]
        },
        {
          "ename": "",
          "evalue": "",
          "output_type": "error",
          "traceback": [
            "\u001b[1;31mnotebook controller is DISPOSED. \n",
            "\u001b[1;31mView Jupyter <a href='command:jupyter.viewOutput'>log</a> for further details."
          ]
        }
      ],
      "source": [
        "df.sexo_paciente.unique()"
      ]
    },
    {
      "cell_type": "code",
      "execution_count": null,
      "metadata": {
        "colab": {
          "base_uri": "https://localhost:8080/"
        },
        "id": "Ou0pCtdDCb_j",
        "outputId": "d161abcf-e4ba-4ae2-9610-53495945dae3"
      },
      "outputs": [
        {
          "data": {
            "text/plain": [
              "1    60245\n",
              "0    39755\n",
              "Name: recomenda, dtype: int64"
            ]
          },
          "execution_count": 35,
          "metadata": {},
          "output_type": "execute_result"
        },
        {
          "ename": "",
          "evalue": "",
          "output_type": "error",
          "traceback": [
            "\u001b[1;31mnotebook controller is DISPOSED. \n",
            "\u001b[1;31mView Jupyter <a href='command:jupyter.viewOutput'>log</a> for further details."
          ]
        },
        {
          "ename": "",
          "evalue": "",
          "output_type": "error",
          "traceback": [
            "\u001b[1;31mnotebook controller is DISPOSED. \n",
            "\u001b[1;31mView Jupyter <a href='command:jupyter.viewOutput'>log</a> for further details."
          ]
        }
      ],
      "source": [
        "# valor 1 para recomenda e 0 para nao recomenda\n",
        "df.recomenda.value_counts()"
      ]
    },
    {
      "cell_type": "code",
      "execution_count": null,
      "metadata": {
        "id": "6DfThTnID_bY"
      },
      "outputs": [
        {
          "ename": "",
          "evalue": "",
          "output_type": "error",
          "traceback": [
            "\u001b[1;31mnotebook controller is DISPOSED. \n",
            "\u001b[1;31mView Jupyter <a href='command:jupyter.viewOutput'>log</a> for further details."
          ]
        },
        {
          "ename": "",
          "evalue": "",
          "output_type": "error",
          "traceback": [
            "\u001b[1;31mnotebook controller is DISPOSED. \n",
            "\u001b[1;31mView Jupyter <a href='command:jupyter.viewOutput'>log</a> for further details."
          ]
        }
      ],
      "source": [
        "num_col=df.select_dtypes(\"number\").columns.to_list()\n",
        "cat_col=[col for col in df if col not in num_col]\n",
        "cat_col=[\n",
        "        #'medico_id',\n",
        "         'sexo_paciente',\n",
        "        'especialidade']"
      ]
    },
    {
      "cell_type": "code",
      "execution_count": null,
      "metadata": {
        "id": "ZgJiZMq0G8_y"
      },
      "outputs": [
        {
          "ename": "",
          "evalue": "",
          "output_type": "error",
          "traceback": [
            "\u001b[1;31mnotebook controller is DISPOSED. \n",
            "\u001b[1;31mView Jupyter <a href='command:jupyter.viewOutput'>log</a> for further details."
          ]
        },
        {
          "ename": "",
          "evalue": "",
          "output_type": "error",
          "traceback": [
            "\u001b[1;31mnotebook controller is DISPOSED. \n",
            "\u001b[1;31mView Jupyter <a href='command:jupyter.viewOutput'>log</a> for further details."
          ]
        }
      ],
      "source": [
        "num_col=[#'paciente_id',\n",
        "         #'recomenda',\n",
        "         'idade']\n",
        "x=cat_col+num_col\n",
        "y='recomenda'"
      ]
    },
    {
      "cell_type": "code",
      "execution_count": null,
      "metadata": {
        "id": "33J5oBNkHRJ3"
      },
      "outputs": [
        {
          "ename": "",
          "evalue": "",
          "output_type": "error",
          "traceback": [
            "\u001b[1;31mnotebook controller is DISPOSED. \n",
            "\u001b[1;31mView Jupyter <a href='command:jupyter.viewOutput'>log</a> for further details."
          ]
        },
        {
          "ename": "",
          "evalue": "",
          "output_type": "error",
          "traceback": [
            "\u001b[1;31mnotebook controller is DISPOSED. \n",
            "\u001b[1;31mView Jupyter <a href='command:jupyter.viewOutput'>log</a> for further details."
          ]
        }
      ],
      "source": [
        "X_train, X_test,y_train, y_test=tts(df[x], df[y], stratify=df[y], random_state=101,test_size=0.2 )"
      ]
    },
    {
      "cell_type": "code",
      "execution_count": null,
      "metadata": {
        "id": "FVTMGZWRI-7u"
      },
      "outputs": [
        {
          "ename": "",
          "evalue": "",
          "output_type": "error",
          "traceback": [
            "\u001b[1;31mnotebook controller is DISPOSED. \n",
            "\u001b[1;31mView Jupyter <a href='command:jupyter.viewOutput'>log</a> for further details."
          ]
        },
        {
          "ename": "",
          "evalue": "",
          "output_type": "error",
          "traceback": [
            "\u001b[1;31mnotebook controller is DISPOSED. \n",
            "\u001b[1;31mView Jupyter <a href='command:jupyter.viewOutput'>log</a> for further details."
          ]
        }
      ],
      "source": [
        "\n",
        "preprocessor=ColumnTransformer([\n",
        "    (\"scaler\",StandardScaler(), num_col),\n",
        "    (\"encoder\", OneHotEncoder(handle_unknown=\"ignore\"), cat_col)\n",
        "])\n",
        "pipe=Pipeline([\n",
        "    (\"preprocess\", preprocessor),\n",
        "    (\"model\",RandomForestClassifier(class_weight=\"balanced\", random_state=101))\n",
        "])"
      ]
    },
    {
      "cell_type": "code",
      "execution_count": null,
      "metadata": {
        "colab": {
          "base_uri": "https://localhost:8080/",
          "height": 192
        },
        "id": "IOjPszohJt6h",
        "outputId": "caf0bd1c-ec9e-41a5-f087-6b29e00efc5d"
      },
      "outputs": [
        {
          "data": {
            "text/html": [
              "<style>#sk-container-id-3 {color: black;background-color: white;}#sk-container-id-3 pre{padding: 0;}#sk-container-id-3 div.sk-toggleable {background-color: white;}#sk-container-id-3 label.sk-toggleable__label {cursor: pointer;display: block;width: 100%;margin-bottom: 0;padding: 0.3em;box-sizing: border-box;text-align: center;}#sk-container-id-3 label.sk-toggleable__label-arrow:before {content: \"▸\";float: left;margin-right: 0.25em;color: #696969;}#sk-container-id-3 label.sk-toggleable__label-arrow:hover:before {color: black;}#sk-container-id-3 div.sk-estimator:hover label.sk-toggleable__label-arrow:before {color: black;}#sk-container-id-3 div.sk-toggleable__content {max-height: 0;max-width: 0;overflow: hidden;text-align: left;background-color: #f0f8ff;}#sk-container-id-3 div.sk-toggleable__content pre {margin: 0.2em;color: black;border-radius: 0.25em;background-color: #f0f8ff;}#sk-container-id-3 input.sk-toggleable__control:checked~div.sk-toggleable__content {max-height: 200px;max-width: 100%;overflow: auto;}#sk-container-id-3 input.sk-toggleable__control:checked~label.sk-toggleable__label-arrow:before {content: \"▾\";}#sk-container-id-3 div.sk-estimator input.sk-toggleable__control:checked~label.sk-toggleable__label {background-color: #d4ebff;}#sk-container-id-3 div.sk-label input.sk-toggleable__control:checked~label.sk-toggleable__label {background-color: #d4ebff;}#sk-container-id-3 input.sk-hidden--visually {border: 0;clip: rect(1px 1px 1px 1px);clip: rect(1px, 1px, 1px, 1px);height: 1px;margin: -1px;overflow: hidden;padding: 0;position: absolute;width: 1px;}#sk-container-id-3 div.sk-estimator {font-family: monospace;background-color: #f0f8ff;border: 1px dotted black;border-radius: 0.25em;box-sizing: border-box;margin-bottom: 0.5em;}#sk-container-id-3 div.sk-estimator:hover {background-color: #d4ebff;}#sk-container-id-3 div.sk-parallel-item::after {content: \"\";width: 100%;border-bottom: 1px solid gray;flex-grow: 1;}#sk-container-id-3 div.sk-label:hover label.sk-toggleable__label {background-color: #d4ebff;}#sk-container-id-3 div.sk-serial::before {content: \"\";position: absolute;border-left: 1px solid gray;box-sizing: border-box;top: 0;bottom: 0;left: 50%;z-index: 0;}#sk-container-id-3 div.sk-serial {display: flex;flex-direction: column;align-items: center;background-color: white;padding-right: 0.2em;padding-left: 0.2em;position: relative;}#sk-container-id-3 div.sk-item {position: relative;z-index: 1;}#sk-container-id-3 div.sk-parallel {display: flex;align-items: stretch;justify-content: center;background-color: white;position: relative;}#sk-container-id-3 div.sk-item::before, #sk-container-id-3 div.sk-parallel-item::before {content: \"\";position: absolute;border-left: 1px solid gray;box-sizing: border-box;top: 0;bottom: 0;left: 50%;z-index: -1;}#sk-container-id-3 div.sk-parallel-item {display: flex;flex-direction: column;z-index: 1;position: relative;background-color: white;}#sk-container-id-3 div.sk-parallel-item:first-child::after {align-self: flex-end;width: 50%;}#sk-container-id-3 div.sk-parallel-item:last-child::after {align-self: flex-start;width: 50%;}#sk-container-id-3 div.sk-parallel-item:only-child::after {width: 0;}#sk-container-id-3 div.sk-dashed-wrapped {border: 1px dashed gray;margin: 0 0.4em 0.5em 0.4em;box-sizing: border-box;padding-bottom: 0.4em;background-color: white;}#sk-container-id-3 div.sk-label label {font-family: monospace;font-weight: bold;display: inline-block;line-height: 1.2em;}#sk-container-id-3 div.sk-label-container {text-align: center;}#sk-container-id-3 div.sk-container {/* jupyter's `normalize.less` sets `[hidden] { display: none; }` but bootstrap.min.css set `[hidden] { display: none !important; }` so we also need the `!important` here to be able to override the default hidden behavior on the sphinx rendered scikit-learn.org. See: https://github.com/scikit-learn/scikit-learn/issues/21755 */display: inline-block !important;position: relative;}#sk-container-id-3 div.sk-text-repr-fallback {display: none;}</style><div id=\"sk-container-id-3\" class=\"sk-top-container\"><div class=\"sk-text-repr-fallback\"><pre>Pipeline(steps=[(&#x27;preprocess&#x27;,\n",
              "                 ColumnTransformer(transformers=[(&#x27;scaler&#x27;, StandardScaler(),\n",
              "                                                  [&#x27;idade&#x27;]),\n",
              "                                                 (&#x27;encoder&#x27;,\n",
              "                                                  OneHotEncoder(handle_unknown=&#x27;ignore&#x27;),\n",
              "                                                  [&#x27;sexo_paciente&#x27;,\n",
              "                                                   &#x27;especialidade&#x27;])])),\n",
              "                (&#x27;model&#x27;,\n",
              "                 RandomForestClassifier(class_weight=&#x27;balanced&#x27;,\n",
              "                                        random_state=101))])</pre><b>In a Jupyter environment, please rerun this cell to show the HTML representation or trust the notebook. <br />On GitHub, the HTML representation is unable to render, please try loading this page with nbviewer.org.</b></div><div class=\"sk-container\" hidden><div class=\"sk-item sk-dashed-wrapped\"><div class=\"sk-label-container\"><div class=\"sk-label sk-toggleable\"><input class=\"sk-toggleable__control sk-hidden--visually\" id=\"sk-estimator-id-15\" type=\"checkbox\" ><label for=\"sk-estimator-id-15\" class=\"sk-toggleable__label sk-toggleable__label-arrow\">Pipeline</label><div class=\"sk-toggleable__content\"><pre>Pipeline(steps=[(&#x27;preprocess&#x27;,\n",
              "                 ColumnTransformer(transformers=[(&#x27;scaler&#x27;, StandardScaler(),\n",
              "                                                  [&#x27;idade&#x27;]),\n",
              "                                                 (&#x27;encoder&#x27;,\n",
              "                                                  OneHotEncoder(handle_unknown=&#x27;ignore&#x27;),\n",
              "                                                  [&#x27;sexo_paciente&#x27;,\n",
              "                                                   &#x27;especialidade&#x27;])])),\n",
              "                (&#x27;model&#x27;,\n",
              "                 RandomForestClassifier(class_weight=&#x27;balanced&#x27;,\n",
              "                                        random_state=101))])</pre></div></div></div><div class=\"sk-serial\"><div class=\"sk-item sk-dashed-wrapped\"><div class=\"sk-label-container\"><div class=\"sk-label sk-toggleable\"><input class=\"sk-toggleable__control sk-hidden--visually\" id=\"sk-estimator-id-16\" type=\"checkbox\" ><label for=\"sk-estimator-id-16\" class=\"sk-toggleable__label sk-toggleable__label-arrow\">preprocess: ColumnTransformer</label><div class=\"sk-toggleable__content\"><pre>ColumnTransformer(transformers=[(&#x27;scaler&#x27;, StandardScaler(), [&#x27;idade&#x27;]),\n",
              "                                (&#x27;encoder&#x27;,\n",
              "                                 OneHotEncoder(handle_unknown=&#x27;ignore&#x27;),\n",
              "                                 [&#x27;sexo_paciente&#x27;, &#x27;especialidade&#x27;])])</pre></div></div></div><div class=\"sk-parallel\"><div class=\"sk-parallel-item\"><div class=\"sk-item\"><div class=\"sk-label-container\"><div class=\"sk-label sk-toggleable\"><input class=\"sk-toggleable__control sk-hidden--visually\" id=\"sk-estimator-id-17\" type=\"checkbox\" ><label for=\"sk-estimator-id-17\" class=\"sk-toggleable__label sk-toggleable__label-arrow\">scaler</label><div class=\"sk-toggleable__content\"><pre>[&#x27;idade&#x27;]</pre></div></div></div><div class=\"sk-serial\"><div class=\"sk-item\"><div class=\"sk-estimator sk-toggleable\"><input class=\"sk-toggleable__control sk-hidden--visually\" id=\"sk-estimator-id-18\" type=\"checkbox\" ><label for=\"sk-estimator-id-18\" class=\"sk-toggleable__label sk-toggleable__label-arrow\">StandardScaler</label><div class=\"sk-toggleable__content\"><pre>StandardScaler()</pre></div></div></div></div></div></div><div class=\"sk-parallel-item\"><div class=\"sk-item\"><div class=\"sk-label-container\"><div class=\"sk-label sk-toggleable\"><input class=\"sk-toggleable__control sk-hidden--visually\" id=\"sk-estimator-id-19\" type=\"checkbox\" ><label for=\"sk-estimator-id-19\" class=\"sk-toggleable__label sk-toggleable__label-arrow\">encoder</label><div class=\"sk-toggleable__content\"><pre>[&#x27;sexo_paciente&#x27;, &#x27;especialidade&#x27;]</pre></div></div></div><div class=\"sk-serial\"><div class=\"sk-item\"><div class=\"sk-estimator sk-toggleable\"><input class=\"sk-toggleable__control sk-hidden--visually\" id=\"sk-estimator-id-20\" type=\"checkbox\" ><label for=\"sk-estimator-id-20\" class=\"sk-toggleable__label sk-toggleable__label-arrow\">OneHotEncoder</label><div class=\"sk-toggleable__content\"><pre>OneHotEncoder(handle_unknown=&#x27;ignore&#x27;)</pre></div></div></div></div></div></div></div></div><div class=\"sk-item\"><div class=\"sk-estimator sk-toggleable\"><input class=\"sk-toggleable__control sk-hidden--visually\" id=\"sk-estimator-id-21\" type=\"checkbox\" ><label for=\"sk-estimator-id-21\" class=\"sk-toggleable__label sk-toggleable__label-arrow\">RandomForestClassifier</label><div class=\"sk-toggleable__content\"><pre>RandomForestClassifier(class_weight=&#x27;balanced&#x27;, random_state=101)</pre></div></div></div></div></div></div></div>"
            ],
            "text/plain": [
              "Pipeline(steps=[('preprocess',\n",
              "                 ColumnTransformer(transformers=[('scaler', StandardScaler(),\n",
              "                                                  ['idade']),\n",
              "                                                 ('encoder',\n",
              "                                                  OneHotEncoder(handle_unknown='ignore'),\n",
              "                                                  ['sexo_paciente',\n",
              "                                                   'especialidade'])])),\n",
              "                ('model',\n",
              "                 RandomForestClassifier(class_weight='balanced',\n",
              "                                        random_state=101))])"
            ]
          },
          "execution_count": 40,
          "metadata": {},
          "output_type": "execute_result"
        },
        {
          "ename": "",
          "evalue": "",
          "output_type": "error",
          "traceback": [
            "\u001b[1;31mnotebook controller is DISPOSED. \n",
            "\u001b[1;31mView Jupyter <a href='command:jupyter.viewOutput'>log</a> for further details."
          ]
        },
        {
          "ename": "",
          "evalue": "",
          "output_type": "error",
          "traceback": [
            "\u001b[1;31mnotebook controller is DISPOSED. \n",
            "\u001b[1;31mView Jupyter <a href='command:jupyter.viewOutput'>log</a> for further details."
          ]
        }
      ],
      "source": [
        "pipe.fit(X_train, y_train)"
      ]
    },
    {
      "cell_type": "code",
      "execution_count": null,
      "metadata": {
        "colab": {
          "base_uri": "https://localhost:8080/"
        },
        "id": "0Xtyjdz-KJwV",
        "outputId": "393ccaba-c5aa-4c78-aaed-f134d95d93e5"
      },
      "outputs": [
        {
          "data": {
            "text/plain": [
              "{'accuracy': 0.5042,\n",
              " 'balanced_accuracy': 0.49787142905621024,\n",
              " 'precision': 0.6005278537091149,\n",
              " 'recall': 0.5287575732425928,\n",
              " 'f1': 0.5623620796186777,\n",
              " 'roc-auc': 0.4920820945796532}"
            ]
          },
          "execution_count": 41,
          "metadata": {},
          "output_type": "execute_result"
        },
        {
          "ename": "",
          "evalue": "",
          "output_type": "error",
          "traceback": [
            "\u001b[1;31mnotebook controller is DISPOSED. \n",
            "\u001b[1;31mView Jupyter <a href='command:jupyter.viewOutput'>log</a> for further details."
          ]
        },
        {
          "ename": "",
          "evalue": "",
          "output_type": "error",
          "traceback": [
            "\u001b[1;31mnotebook controller is DISPOSED. \n",
            "\u001b[1;31mView Jupyter <a href='command:jupyter.viewOutput'>log</a> for further details."
          ]
        }
      ],
      "source": [
        "calculate_metrics(pipe, X_test,y_test)"
      ]
    },
    {
      "cell_type": "code",
      "execution_count": null,
      "metadata": {
        "colab": {
          "base_uri": "https://localhost:8080/"
        },
        "id": "ZQc73YI9KPhK",
        "outputId": "85326ac8-9896-4674-eecc-9fa2da623e57"
      },
      "outputs": [
        {
          "name": "stdout",
          "output_type": "stream",
          "text": [
            "dummy DummyClassifier()\n",
            "[{'accuracy': 0.60245, 'balanced_accuracy': 0.5, 'precision': 0.60245, 'recall': 1.0, 'f1': 0.7519111360728884, 'roc-auc': 0.5}]\n",
            "rf RandomForestClassifier(class_weight='balanced', random_state=101)\n",
            "[{'accuracy': 0.60245, 'balanced_accuracy': 0.5, 'precision': 0.60245, 'recall': 1.0, 'f1': 0.7519111360728884, 'roc-auc': 0.5}, {'accuracy': 0.5042, 'balanced_accuracy': 0.49787142905621024, 'precision': 0.6005278537091149, 'recall': 0.5287575732425928, 'f1': 0.5623620796186777, 'roc-auc': 0.4920820945796532}]\n",
            "ada AdaBoostClassifier(random_state=101)\n",
            "[{'accuracy': 0.60245, 'balanced_accuracy': 0.5, 'precision': 0.60245, 'recall': 1.0, 'f1': 0.7519111360728884, 'roc-auc': 0.5}, {'accuracy': 0.5042, 'balanced_accuracy': 0.49787142905621024, 'precision': 0.6005278537091149, 'recall': 0.5287575732425928, 'f1': 0.5623620796186777, 'roc-auc': 0.4920820945796532}, {'accuracy': 0.60245, 'balanced_accuracy': 0.5, 'precision': 0.60245, 'recall': 1.0, 'f1': 0.7519111360728884, 'roc-auc': 0.49611791970194574}]\n",
            "lr LogisticRegression(class_weight='balanced', random_state=101)\n",
            "[{'accuracy': 0.60245, 'balanced_accuracy': 0.5, 'precision': 0.60245, 'recall': 1.0, 'f1': 0.7519111360728884, 'roc-auc': 0.5}, {'accuracy': 0.5042, 'balanced_accuracy': 0.49787142905621024, 'precision': 0.6005278537091149, 'recall': 0.5287575732425928, 'f1': 0.5623620796186777, 'roc-auc': 0.4920820945796532}, {'accuracy': 0.60245, 'balanced_accuracy': 0.5, 'precision': 0.60245, 'recall': 1.0, 'f1': 0.7519111360728884, 'roc-auc': 0.49611791970194574}, {'accuracy': 0.50315, 'balanced_accuracy': 0.4982832645622126, 'precision': 0.6008788689338938, 'recall': 0.5220350236534153, 'f1': 0.5586889905404806, 'roc-auc': 0.49927374907385424}]\n",
            "gbc GradientBoostingClassifier(random_state=101)\n",
            "[{'accuracy': 0.60245, 'balanced_accuracy': 0.5, 'precision': 0.60245, 'recall': 1.0, 'f1': 0.7519111360728884, 'roc-auc': 0.5}, {'accuracy': 0.5042, 'balanced_accuracy': 0.49787142905621024, 'precision': 0.6005278537091149, 'recall': 0.5287575732425928, 'f1': 0.5623620796186777, 'roc-auc': 0.4920820945796532}, {'accuracy': 0.60245, 'balanced_accuracy': 0.5, 'precision': 0.60245, 'recall': 1.0, 'f1': 0.7519111360728884, 'roc-auc': 0.49611791970194574}, {'accuracy': 0.50315, 'balanced_accuracy': 0.4982832645622126, 'precision': 0.6008788689338938, 'recall': 0.5220350236534153, 'f1': 0.5586889905404806, 'roc-auc': 0.49927374907385424}, {'accuracy': 0.6025, 'balanced_accuracy': 0.5003195405955594, 'precision': 0.6026032540675845, 'recall': 0.9990040667275293, 'f1': 0.7517486884836373, 'roc-auc': 0.4958578457547457}]\n",
            "neural MLPClassifier(alpha=1e-05, hidden_layer_sizes=(5, 2), random_state=101,\n",
            "              solver='lbfgs')\n",
            "[{'accuracy': 0.60245, 'balanced_accuracy': 0.5, 'precision': 0.60245, 'recall': 1.0, 'f1': 0.7519111360728884, 'roc-auc': 0.5}, {'accuracy': 0.5042, 'balanced_accuracy': 0.49787142905621024, 'precision': 0.6005278537091149, 'recall': 0.5287575732425928, 'f1': 0.5623620796186777, 'roc-auc': 0.4920820945796532}, {'accuracy': 0.60245, 'balanced_accuracy': 0.5, 'precision': 0.60245, 'recall': 1.0, 'f1': 0.7519111360728884, 'roc-auc': 0.49611791970194574}, {'accuracy': 0.50315, 'balanced_accuracy': 0.4982832645622126, 'precision': 0.6008788689338938, 'recall': 0.5220350236534153, 'f1': 0.5586889905404806, 'roc-auc': 0.49927374907385424}, {'accuracy': 0.6025, 'balanced_accuracy': 0.5003195405955594, 'precision': 0.6026032540675845, 'recall': 0.9990040667275293, 'f1': 0.7517486884836373, 'roc-auc': 0.4958578457547457}, {'accuracy': 0.60245, 'balanced_accuracy': 0.5, 'precision': 0.60245, 'recall': 1.0, 'f1': 0.7519111360728884, 'roc-auc': 0.49987017440074233}]\n"
          ]
        },
        {
          "ename": "",
          "evalue": "",
          "output_type": "error",
          "traceback": [
            "\u001b[1;31mnotebook controller is DISPOSED. \n",
            "\u001b[1;31mView Jupyter <a href='command:jupyter.viewOutput'>log</a> for further details."
          ]
        },
        {
          "ename": "",
          "evalue": "",
          "output_type": "error",
          "traceback": [
            "\u001b[1;31mnotebook controller is DISPOSED. \n",
            "\u001b[1;31mView Jupyter <a href='command:jupyter.viewOutput'>log</a> for further details."
          ]
        }
      ],
      "source": [
        "model={\n",
        "    \"dummy\":DummyClassifier(),\n",
        "    \"rf\":RandomForestClassifier(class_weight=\"balanced\", random_state=101),\n",
        "    \"ada\":AdaBoostClassifier(random_state=101),\n",
        "    \"lr\":LogisticRegression(class_weight=\"balanced\", random_state=101),\n",
        "    \"gbc\":GradientBoostingClassifier(random_state=101),\n",
        "    \"neural\":MLPClassifier(alpha=1e-05, hidden_layer_sizes=(5, 2), random_state=101,\n",
        "              solver='lbfgs'),\n",
        "    \n",
        "\n",
        "}\n",
        "results=[]\n",
        "for model_name , modelo in model.items():\n",
        "  print(model_name, modelo)\n",
        "  pipe.set_params(model=modelo).fit(X_train,y_train)\n",
        "  result=calculate_metrics(pipe, X_test,y_test)\n",
        "  results.append(result)\n",
        "  print(results)"
      ]
    },
    {
      "cell_type": "code",
      "execution_count": null,
      "metadata": {
        "colab": {
          "base_uri": "https://localhost:8080/",
          "height": 237
        },
        "id": "zAMQLf4GLtQe",
        "outputId": "9db7f581-71f7-425f-8af9-aaac72078dfa"
      },
      "outputs": [
        {
          "data": {
            "text/html": [
              "<div>\n",
              "<style scoped>\n",
              "    .dataframe tbody tr th:only-of-type {\n",
              "        vertical-align: middle;\n",
              "    }\n",
              "\n",
              "    .dataframe tbody tr th {\n",
              "        vertical-align: top;\n",
              "    }\n",
              "\n",
              "    .dataframe thead th {\n",
              "        text-align: right;\n",
              "    }\n",
              "</style>\n",
              "<table border=\"1\" class=\"dataframe\">\n",
              "  <thead>\n",
              "    <tr style=\"text-align: right;\">\n",
              "      <th></th>\n",
              "      <th>dummy</th>\n",
              "      <th>rf</th>\n",
              "      <th>ada</th>\n",
              "      <th>lr</th>\n",
              "      <th>gbc</th>\n",
              "      <th>neural</th>\n",
              "    </tr>\n",
              "  </thead>\n",
              "  <tbody>\n",
              "    <tr>\n",
              "      <th>accuracy</th>\n",
              "      <td>0.602450</td>\n",
              "      <td>0.504200</td>\n",
              "      <td>0.602450</td>\n",
              "      <td>0.503150</td>\n",
              "      <td>0.602500</td>\n",
              "      <td>0.602450</td>\n",
              "    </tr>\n",
              "    <tr>\n",
              "      <th>balanced_accuracy</th>\n",
              "      <td>0.500000</td>\n",
              "      <td>0.497871</td>\n",
              "      <td>0.500000</td>\n",
              "      <td>0.498283</td>\n",
              "      <td>0.500320</td>\n",
              "      <td>0.500000</td>\n",
              "    </tr>\n",
              "    <tr>\n",
              "      <th>precision</th>\n",
              "      <td>0.602450</td>\n",
              "      <td>0.600528</td>\n",
              "      <td>0.602450</td>\n",
              "      <td>0.600879</td>\n",
              "      <td>0.602603</td>\n",
              "      <td>0.602450</td>\n",
              "    </tr>\n",
              "    <tr>\n",
              "      <th>recall</th>\n",
              "      <td>1.000000</td>\n",
              "      <td>0.528758</td>\n",
              "      <td>1.000000</td>\n",
              "      <td>0.522035</td>\n",
              "      <td>0.999004</td>\n",
              "      <td>1.000000</td>\n",
              "    </tr>\n",
              "    <tr>\n",
              "      <th>f1</th>\n",
              "      <td>0.751911</td>\n",
              "      <td>0.562362</td>\n",
              "      <td>0.751911</td>\n",
              "      <td>0.558689</td>\n",
              "      <td>0.751749</td>\n",
              "      <td>0.751911</td>\n",
              "    </tr>\n",
              "    <tr>\n",
              "      <th>roc-auc</th>\n",
              "      <td>0.500000</td>\n",
              "      <td>0.492082</td>\n",
              "      <td>0.496118</td>\n",
              "      <td>0.499274</td>\n",
              "      <td>0.495858</td>\n",
              "      <td>0.499870</td>\n",
              "    </tr>\n",
              "  </tbody>\n",
              "</table>\n",
              "</div>"
            ],
            "text/plain": [
              "                      dummy        rf       ada        lr       gbc    neural\n",
              "accuracy           0.602450  0.504200  0.602450  0.503150  0.602500  0.602450\n",
              "balanced_accuracy  0.500000  0.497871  0.500000  0.498283  0.500320  0.500000\n",
              "precision          0.602450  0.600528  0.602450  0.600879  0.602603  0.602450\n",
              "recall             1.000000  0.528758  1.000000  0.522035  0.999004  1.000000\n",
              "f1                 0.751911  0.562362  0.751911  0.558689  0.751749  0.751911\n",
              "roc-auc            0.500000  0.492082  0.496118  0.499274  0.495858  0.499870"
            ]
          },
          "execution_count": 44,
          "metadata": {},
          "output_type": "execute_result"
        },
        {
          "ename": "",
          "evalue": "",
          "output_type": "error",
          "traceback": [
            "\u001b[1;31mnotebook controller is DISPOSED. \n",
            "\u001b[1;31mView Jupyter <a href='command:jupyter.viewOutput'>log</a> for further details."
          ]
        },
        {
          "ename": "",
          "evalue": "",
          "output_type": "error",
          "traceback": [
            "\u001b[1;31mnotebook controller is DISPOSED. \n",
            "\u001b[1;31mView Jupyter <a href='command:jupyter.viewOutput'>log</a> for further details."
          ]
        }
      ],
      "source": [
        "df_results=pd.DataFrame(results).T\n",
        "df_results.columns=[\n",
        "    'dummy',\n",
        "    'rf',\n",
        "    'ada',\n",
        "    'lr',\n",
        "    \"gbc\",\n",
        "    \"neural\"\n",
        "]\n",
        "\n",
        "df_results\n"
      ]
    },
    {
      "cell_type": "code",
      "execution_count": null,
      "metadata": {
        "colab": {
          "base_uri": "https://localhost:8080/"
        },
        "id": "uQewNxbdlSaX",
        "outputId": "91958192-4993-4324-98d7-0e4a88320970"
      },
      "outputs": [
        {
          "name": "stdout",
          "output_type": "stream",
          "text": [
            "dummy DummyClassifier()\n",
            "rf RandomForestClassifier(class_weight='balanced', random_state=101)\n",
            "ada AdaBoostClassifier(random_state=101)\n",
            "lr LogisticRegression(class_weight='balanced', random_state=101)\n",
            "gbc GradientBoostingClassifier(random_state=101)\n",
            "neural MLPClassifier(alpha=1e-05, hidden_layer_sizes=(5, 2), random_state=101,\n",
            "              solver='lbfgs')\n"
          ]
        },
        {
          "ename": "",
          "evalue": "",
          "output_type": "error",
          "traceback": [
            "\u001b[1;31mnotebook controller is DISPOSED. \n",
            "\u001b[1;31mView Jupyter <a href='command:jupyter.viewOutput'>log</a> for further details."
          ]
        },
        {
          "ename": "",
          "evalue": "",
          "output_type": "error",
          "traceback": [
            "\u001b[1;31mnotebook controller is DISPOSED. \n",
            "\u001b[1;31mView Jupyter <a href='command:jupyter.viewOutput'>log</a> for further details."
          ]
        }
      ],
      "source": [
        "model={\n",
        "    \"dummy\":DummyClassifier(),\n",
        "    \"rf\":RandomForestClassifier(class_weight=\"balanced\", random_state=101),\n",
        "    \"ada\":AdaBoostClassifier(random_state=101),\n",
        "    \"lr\":LogisticRegression(class_weight=\"balanced\", random_state=101),\n",
        "    \"gbc\":GradientBoostingClassifier(random_state=101),\n",
        "    \"neural\":MLPClassifier(alpha=1e-05, hidden_layer_sizes=(5, 2), random_state=101,\n",
        "              solver='lbfgs'),\n",
        "}\n",
        "\n",
        "cross_results=[]\n",
        "for model_name, modelo in model.items():\n",
        "  print(model_name, modelo)\n",
        "  pipe.set_params(model=modelo)\n",
        "  cross=cv(pipe, X_train, y_train, cv=5, scoring=[\"precision\", \"accuracy\", \"f1\",\"recall\", \"roc_auc\" ])\n",
        "  cross_result=pd.DataFrame(cross).mean().to_frame(model_name).T\n",
        "  cross_results.append(cross_result)\n",
        "\n",
        "\n",
        "  df_cross=pd.concat(cross_results)"
      ]
    },
    {
      "cell_type": "code",
      "execution_count": null,
      "metadata": {
        "colab": {
          "base_uri": "https://localhost:8080/",
          "height": 300
        },
        "id": "QFIG4YzFnPX2",
        "outputId": "5fb986f4-2420-400c-8019-f43e5b7b61dc"
      },
      "outputs": [
        {
          "data": {
            "text/html": [
              "<div>\n",
              "<style scoped>\n",
              "    .dataframe tbody tr th:only-of-type {\n",
              "        vertical-align: middle;\n",
              "    }\n",
              "\n",
              "    .dataframe tbody tr th {\n",
              "        vertical-align: top;\n",
              "    }\n",
              "\n",
              "    .dataframe thead th {\n",
              "        text-align: right;\n",
              "    }\n",
              "</style>\n",
              "<table border=\"1\" class=\"dataframe\">\n",
              "  <thead>\n",
              "    <tr style=\"text-align: right;\">\n",
              "      <th></th>\n",
              "      <th>fit_time</th>\n",
              "      <th>score_time</th>\n",
              "      <th>test_precision</th>\n",
              "      <th>test_accuracy</th>\n",
              "      <th>test_f1</th>\n",
              "      <th>test_recall</th>\n",
              "      <th>test_roc_auc</th>\n",
              "    </tr>\n",
              "  </thead>\n",
              "  <tbody>\n",
              "    <tr>\n",
              "      <th>dummy</th>\n",
              "      <td>0.088601</td>\n",
              "      <td>0.085711</td>\n",
              "      <td>0.602450</td>\n",
              "      <td>0.602450</td>\n",
              "      <td>0.751911</td>\n",
              "      <td>1.000000</td>\n",
              "      <td>0.500000</td>\n",
              "    </tr>\n",
              "    <tr>\n",
              "      <th>rf</th>\n",
              "      <td>44.120809</td>\n",
              "      <td>0.894387</td>\n",
              "      <td>0.601760</td>\n",
              "      <td>0.503413</td>\n",
              "      <td>0.557643</td>\n",
              "      <td>0.519587</td>\n",
              "      <td>0.500463</td>\n",
              "    </tr>\n",
              "    <tr>\n",
              "      <th>ada</th>\n",
              "      <td>2.204147</td>\n",
              "      <td>0.368156</td>\n",
              "      <td>0.602450</td>\n",
              "      <td>0.602450</td>\n",
              "      <td>0.751911</td>\n",
              "      <td>1.000000</td>\n",
              "      <td>0.501753</td>\n",
              "    </tr>\n",
              "    <tr>\n",
              "      <th>lr</th>\n",
              "      <td>0.184976</td>\n",
              "      <td>0.091499</td>\n",
              "      <td>0.606444</td>\n",
              "      <td>0.495675</td>\n",
              "      <td>0.524594</td>\n",
              "      <td>0.464810</td>\n",
              "      <td>0.503408</td>\n",
              "    </tr>\n",
              "    <tr>\n",
              "      <th>gbc</th>\n",
              "      <td>5.891591</td>\n",
              "      <td>0.240441</td>\n",
              "      <td>0.602535</td>\n",
              "      <td>0.602400</td>\n",
              "      <td>0.751713</td>\n",
              "      <td>0.999066</td>\n",
              "      <td>0.501564</td>\n",
              "    </tr>\n",
              "    <tr>\n",
              "      <th>neural</th>\n",
              "      <td>0.637739</td>\n",
              "      <td>0.107931</td>\n",
              "      <td>0.602450</td>\n",
              "      <td>0.602450</td>\n",
              "      <td>0.751911</td>\n",
              "      <td>1.000000</td>\n",
              "      <td>0.499317</td>\n",
              "    </tr>\n",
              "  </tbody>\n",
              "</table>\n",
              "</div>"
            ],
            "text/plain": [
              "         fit_time  score_time  test_precision  test_accuracy   test_f1  \\\n",
              "dummy    0.088601    0.085711        0.602450       0.602450  0.751911   \n",
              "rf      44.120809    0.894387        0.601760       0.503413  0.557643   \n",
              "ada      2.204147    0.368156        0.602450       0.602450  0.751911   \n",
              "lr       0.184976    0.091499        0.606444       0.495675  0.524594   \n",
              "gbc      5.891591    0.240441        0.602535       0.602400  0.751713   \n",
              "neural   0.637739    0.107931        0.602450       0.602450  0.751911   \n",
              "\n",
              "        test_recall  test_roc_auc  \n",
              "dummy      1.000000      0.500000  \n",
              "rf         0.519587      0.500463  \n",
              "ada        1.000000      0.501753  \n",
              "lr         0.464810      0.503408  \n",
              "gbc        0.999066      0.501564  \n",
              "neural     1.000000      0.499317  "
            ]
          },
          "execution_count": 46,
          "metadata": {},
          "output_type": "execute_result"
        },
        {
          "ename": "",
          "evalue": "",
          "output_type": "error",
          "traceback": [
            "\u001b[1;31mnotebook controller is DISPOSED. \n",
            "\u001b[1;31mView Jupyter <a href='command:jupyter.viewOutput'>log</a> for further details."
          ]
        },
        {
          "ename": "",
          "evalue": "",
          "output_type": "error",
          "traceback": [
            "\u001b[1;31mnotebook controller is DISPOSED. \n",
            "\u001b[1;31mView Jupyter <a href='command:jupyter.viewOutput'>log</a> for further details."
          ]
        }
      ],
      "source": [
        "df_cross=pd.concat(cross_results)\n",
        "df_cross"
      ]
    },
    {
      "cell_type": "code",
      "execution_count": null,
      "metadata": {},
      "outputs": [
        {
          "ename": "",
          "evalue": "",
          "output_type": "error",
          "traceback": [
            "\u001b[1;31mnotebook controller is DISPOSED. \n",
            "\u001b[1;31mView Jupyter <a href='command:jupyter.viewOutput'>log</a> for further details."
          ]
        },
        {
          "ename": "",
          "evalue": "",
          "output_type": "error",
          "traceback": [
            "\u001b[1;31mnotebook controller is DISPOSED. \n",
            "\u001b[1;31mView Jupyter <a href='command:jupyter.viewOutput'>log</a> for further details."
          ]
        }
      ],
      "source": [
        "pipe_xgb=Pipeline([\n",
        "    (\"preprocess\",preprocessor),\n",
        "    (\"model\",GradientBoostingClassifier(random_state=101))\n",
        "])\n",
        "pipe_xgb\n",
        "\n",
        "\n",
        "params={\n",
        "    'model__learning_rate' : [0.05,0.1, 0.3],\n",
        "    'model__max_depth' : [ 2, 15],\n",
        "  }"
      ]
    },
    {
      "cell_type": "code",
      "execution_count": null,
      "metadata": {},
      "outputs": [
        {
          "name": "stdout",
          "output_type": "stream",
          "text": [
            "Fitting 3 folds for each of 6 candidates, totalling 18 fits\n"
          ]
        },
        {
          "data": {
            "text/html": [
              "<style>#sk-container-id-4 {color: black;background-color: white;}#sk-container-id-4 pre{padding: 0;}#sk-container-id-4 div.sk-toggleable {background-color: white;}#sk-container-id-4 label.sk-toggleable__label {cursor: pointer;display: block;width: 100%;margin-bottom: 0;padding: 0.3em;box-sizing: border-box;text-align: center;}#sk-container-id-4 label.sk-toggleable__label-arrow:before {content: \"▸\";float: left;margin-right: 0.25em;color: #696969;}#sk-container-id-4 label.sk-toggleable__label-arrow:hover:before {color: black;}#sk-container-id-4 div.sk-estimator:hover label.sk-toggleable__label-arrow:before {color: black;}#sk-container-id-4 div.sk-toggleable__content {max-height: 0;max-width: 0;overflow: hidden;text-align: left;background-color: #f0f8ff;}#sk-container-id-4 div.sk-toggleable__content pre {margin: 0.2em;color: black;border-radius: 0.25em;background-color: #f0f8ff;}#sk-container-id-4 input.sk-toggleable__control:checked~div.sk-toggleable__content {max-height: 200px;max-width: 100%;overflow: auto;}#sk-container-id-4 input.sk-toggleable__control:checked~label.sk-toggleable__label-arrow:before {content: \"▾\";}#sk-container-id-4 div.sk-estimator input.sk-toggleable__control:checked~label.sk-toggleable__label {background-color: #d4ebff;}#sk-container-id-4 div.sk-label input.sk-toggleable__control:checked~label.sk-toggleable__label {background-color: #d4ebff;}#sk-container-id-4 input.sk-hidden--visually {border: 0;clip: rect(1px 1px 1px 1px);clip: rect(1px, 1px, 1px, 1px);height: 1px;margin: -1px;overflow: hidden;padding: 0;position: absolute;width: 1px;}#sk-container-id-4 div.sk-estimator {font-family: monospace;background-color: #f0f8ff;border: 1px dotted black;border-radius: 0.25em;box-sizing: border-box;margin-bottom: 0.5em;}#sk-container-id-4 div.sk-estimator:hover {background-color: #d4ebff;}#sk-container-id-4 div.sk-parallel-item::after {content: \"\";width: 100%;border-bottom: 1px solid gray;flex-grow: 1;}#sk-container-id-4 div.sk-label:hover label.sk-toggleable__label {background-color: #d4ebff;}#sk-container-id-4 div.sk-serial::before {content: \"\";position: absolute;border-left: 1px solid gray;box-sizing: border-box;top: 0;bottom: 0;left: 50%;z-index: 0;}#sk-container-id-4 div.sk-serial {display: flex;flex-direction: column;align-items: center;background-color: white;padding-right: 0.2em;padding-left: 0.2em;position: relative;}#sk-container-id-4 div.sk-item {position: relative;z-index: 1;}#sk-container-id-4 div.sk-parallel {display: flex;align-items: stretch;justify-content: center;background-color: white;position: relative;}#sk-container-id-4 div.sk-item::before, #sk-container-id-4 div.sk-parallel-item::before {content: \"\";position: absolute;border-left: 1px solid gray;box-sizing: border-box;top: 0;bottom: 0;left: 50%;z-index: -1;}#sk-container-id-4 div.sk-parallel-item {display: flex;flex-direction: column;z-index: 1;position: relative;background-color: white;}#sk-container-id-4 div.sk-parallel-item:first-child::after {align-self: flex-end;width: 50%;}#sk-container-id-4 div.sk-parallel-item:last-child::after {align-self: flex-start;width: 50%;}#sk-container-id-4 div.sk-parallel-item:only-child::after {width: 0;}#sk-container-id-4 div.sk-dashed-wrapped {border: 1px dashed gray;margin: 0 0.4em 0.5em 0.4em;box-sizing: border-box;padding-bottom: 0.4em;background-color: white;}#sk-container-id-4 div.sk-label label {font-family: monospace;font-weight: bold;display: inline-block;line-height: 1.2em;}#sk-container-id-4 div.sk-label-container {text-align: center;}#sk-container-id-4 div.sk-container {/* jupyter's `normalize.less` sets `[hidden] { display: none; }` but bootstrap.min.css set `[hidden] { display: none !important; }` so we also need the `!important` here to be able to override the default hidden behavior on the sphinx rendered scikit-learn.org. See: https://github.com/scikit-learn/scikit-learn/issues/21755 */display: inline-block !important;position: relative;}#sk-container-id-4 div.sk-text-repr-fallback {display: none;}</style><div id=\"sk-container-id-4\" class=\"sk-top-container\"><div class=\"sk-text-repr-fallback\"><pre>RandomizedSearchCV(cv=3,\n",
              "                   estimator=Pipeline(steps=[(&#x27;preprocess&#x27;,\n",
              "                                              ColumnTransformer(transformers=[(&#x27;scaler&#x27;,\n",
              "                                                                               StandardScaler(),\n",
              "                                                                               [&#x27;idade&#x27;]),\n",
              "                                                                              (&#x27;encoder&#x27;,\n",
              "                                                                               OneHotEncoder(handle_unknown=&#x27;ignore&#x27;),\n",
              "                                                                               [&#x27;sexo_paciente&#x27;,\n",
              "                                                                                &#x27;especialidade&#x27;])])),\n",
              "                                             (&#x27;model&#x27;,\n",
              "                                              GradientBoostingClassifier(random_state=101))]),\n",
              "                   param_distributions={&#x27;model__learning_rate&#x27;: [0.05, 0.1,\n",
              "                                                                 0.3],\n",
              "                                        &#x27;model__max_depth&#x27;: [2, 15]},\n",
              "                   scoring=&#x27;precision&#x27;, verbose=True)</pre><b>In a Jupyter environment, please rerun this cell to show the HTML representation or trust the notebook. <br />On GitHub, the HTML representation is unable to render, please try loading this page with nbviewer.org.</b></div><div class=\"sk-container\" hidden><div class=\"sk-item sk-dashed-wrapped\"><div class=\"sk-label-container\"><div class=\"sk-label sk-toggleable\"><input class=\"sk-toggleable__control sk-hidden--visually\" id=\"sk-estimator-id-22\" type=\"checkbox\" ><label for=\"sk-estimator-id-22\" class=\"sk-toggleable__label sk-toggleable__label-arrow\">RandomizedSearchCV</label><div class=\"sk-toggleable__content\"><pre>RandomizedSearchCV(cv=3,\n",
              "                   estimator=Pipeline(steps=[(&#x27;preprocess&#x27;,\n",
              "                                              ColumnTransformer(transformers=[(&#x27;scaler&#x27;,\n",
              "                                                                               StandardScaler(),\n",
              "                                                                               [&#x27;idade&#x27;]),\n",
              "                                                                              (&#x27;encoder&#x27;,\n",
              "                                                                               OneHotEncoder(handle_unknown=&#x27;ignore&#x27;),\n",
              "                                                                               [&#x27;sexo_paciente&#x27;,\n",
              "                                                                                &#x27;especialidade&#x27;])])),\n",
              "                                             (&#x27;model&#x27;,\n",
              "                                              GradientBoostingClassifier(random_state=101))]),\n",
              "                   param_distributions={&#x27;model__learning_rate&#x27;: [0.05, 0.1,\n",
              "                                                                 0.3],\n",
              "                                        &#x27;model__max_depth&#x27;: [2, 15]},\n",
              "                   scoring=&#x27;precision&#x27;, verbose=True)</pre></div></div></div><div class=\"sk-parallel\"><div class=\"sk-parallel-item\"><div class=\"sk-item\"><div class=\"sk-label-container\"><div class=\"sk-label sk-toggleable\"><input class=\"sk-toggleable__control sk-hidden--visually\" id=\"sk-estimator-id-23\" type=\"checkbox\" ><label for=\"sk-estimator-id-23\" class=\"sk-toggleable__label sk-toggleable__label-arrow\">estimator: Pipeline</label><div class=\"sk-toggleable__content\"><pre>Pipeline(steps=[(&#x27;preprocess&#x27;,\n",
              "                 ColumnTransformer(transformers=[(&#x27;scaler&#x27;, StandardScaler(),\n",
              "                                                  [&#x27;idade&#x27;]),\n",
              "                                                 (&#x27;encoder&#x27;,\n",
              "                                                  OneHotEncoder(handle_unknown=&#x27;ignore&#x27;),\n",
              "                                                  [&#x27;sexo_paciente&#x27;,\n",
              "                                                   &#x27;especialidade&#x27;])])),\n",
              "                (&#x27;model&#x27;, GradientBoostingClassifier(random_state=101))])</pre></div></div></div><div class=\"sk-serial\"><div class=\"sk-item\"><div class=\"sk-serial\"><div class=\"sk-item sk-dashed-wrapped\"><div class=\"sk-label-container\"><div class=\"sk-label sk-toggleable\"><input class=\"sk-toggleable__control sk-hidden--visually\" id=\"sk-estimator-id-24\" type=\"checkbox\" ><label for=\"sk-estimator-id-24\" class=\"sk-toggleable__label sk-toggleable__label-arrow\">preprocess: ColumnTransformer</label><div class=\"sk-toggleable__content\"><pre>ColumnTransformer(transformers=[(&#x27;scaler&#x27;, StandardScaler(), [&#x27;idade&#x27;]),\n",
              "                                (&#x27;encoder&#x27;,\n",
              "                                 OneHotEncoder(handle_unknown=&#x27;ignore&#x27;),\n",
              "                                 [&#x27;sexo_paciente&#x27;, &#x27;especialidade&#x27;])])</pre></div></div></div><div class=\"sk-parallel\"><div class=\"sk-parallel-item\"><div class=\"sk-item\"><div class=\"sk-label-container\"><div class=\"sk-label sk-toggleable\"><input class=\"sk-toggleable__control sk-hidden--visually\" id=\"sk-estimator-id-25\" type=\"checkbox\" ><label for=\"sk-estimator-id-25\" class=\"sk-toggleable__label sk-toggleable__label-arrow\">scaler</label><div class=\"sk-toggleable__content\"><pre>[&#x27;idade&#x27;]</pre></div></div></div><div class=\"sk-serial\"><div class=\"sk-item\"><div class=\"sk-estimator sk-toggleable\"><input class=\"sk-toggleable__control sk-hidden--visually\" id=\"sk-estimator-id-26\" type=\"checkbox\" ><label for=\"sk-estimator-id-26\" class=\"sk-toggleable__label sk-toggleable__label-arrow\">StandardScaler</label><div class=\"sk-toggleable__content\"><pre>StandardScaler()</pre></div></div></div></div></div></div><div class=\"sk-parallel-item\"><div class=\"sk-item\"><div class=\"sk-label-container\"><div class=\"sk-label sk-toggleable\"><input class=\"sk-toggleable__control sk-hidden--visually\" id=\"sk-estimator-id-27\" type=\"checkbox\" ><label for=\"sk-estimator-id-27\" class=\"sk-toggleable__label sk-toggleable__label-arrow\">encoder</label><div class=\"sk-toggleable__content\"><pre>[&#x27;sexo_paciente&#x27;, &#x27;especialidade&#x27;]</pre></div></div></div><div class=\"sk-serial\"><div class=\"sk-item\"><div class=\"sk-estimator sk-toggleable\"><input class=\"sk-toggleable__control sk-hidden--visually\" id=\"sk-estimator-id-28\" type=\"checkbox\" ><label for=\"sk-estimator-id-28\" class=\"sk-toggleable__label sk-toggleable__label-arrow\">OneHotEncoder</label><div class=\"sk-toggleable__content\"><pre>OneHotEncoder(handle_unknown=&#x27;ignore&#x27;)</pre></div></div></div></div></div></div></div></div><div class=\"sk-item\"><div class=\"sk-estimator sk-toggleable\"><input class=\"sk-toggleable__control sk-hidden--visually\" id=\"sk-estimator-id-29\" type=\"checkbox\" ><label for=\"sk-estimator-id-29\" class=\"sk-toggleable__label sk-toggleable__label-arrow\">GradientBoostingClassifier</label><div class=\"sk-toggleable__content\"><pre>GradientBoostingClassifier(random_state=101)</pre></div></div></div></div></div></div></div></div></div></div></div></div>"
            ],
            "text/plain": [
              "RandomizedSearchCV(cv=3,\n",
              "                   estimator=Pipeline(steps=[('preprocess',\n",
              "                                              ColumnTransformer(transformers=[('scaler',\n",
              "                                                                               StandardScaler(),\n",
              "                                                                               ['idade']),\n",
              "                                                                              ('encoder',\n",
              "                                                                               OneHotEncoder(handle_unknown='ignore'),\n",
              "                                                                               ['sexo_paciente',\n",
              "                                                                                'especialidade'])])),\n",
              "                                             ('model',\n",
              "                                              GradientBoostingClassifier(random_state=101))]),\n",
              "                   param_distributions={'model__learning_rate': [0.05, 0.1,\n",
              "                                                                 0.3],\n",
              "                                        'model__max_depth': [2, 15]},\n",
              "                   scoring='precision', verbose=True)"
            ]
          },
          "execution_count": 48,
          "metadata": {},
          "output_type": "execute_result"
        },
        {
          "ename": "",
          "evalue": "",
          "output_type": "error",
          "traceback": [
            "\u001b[1;31mnotebook controller is DISPOSED. \n",
            "\u001b[1;31mView Jupyter <a href='command:jupyter.viewOutput'>log</a> for further details."
          ]
        },
        {
          "ename": "",
          "evalue": "",
          "output_type": "error",
          "traceback": [
            "\u001b[1;31mnotebook controller is DISPOSED. \n",
            "\u001b[1;31mView Jupyter <a href='command:jupyter.viewOutput'>log</a> for further details."
          ]
        }
      ],
      "source": [
        "final_random=rscv(pipe_xgb,param_distributions=params, cv=3, scoring=\"precision\", verbose=True)\n",
        "final_random.fit(X_train,y_train)"
      ]
    },
    {
      "cell_type": "code",
      "execution_count": null,
      "metadata": {},
      "outputs": [
        {
          "data": {
            "text/html": [
              "<div>\n",
              "<style scoped>\n",
              "    .dataframe tbody tr th:only-of-type {\n",
              "        vertical-align: middle;\n",
              "    }\n",
              "\n",
              "    .dataframe tbody tr th {\n",
              "        vertical-align: top;\n",
              "    }\n",
              "\n",
              "    .dataframe thead th {\n",
              "        text-align: right;\n",
              "    }\n",
              "</style>\n",
              "<table border=\"1\" class=\"dataframe\">\n",
              "  <thead>\n",
              "    <tr style=\"text-align: right;\">\n",
              "      <th></th>\n",
              "      <th>param_model__max_depth</th>\n",
              "      <th>param_model__learning_rate</th>\n",
              "      <th>params</th>\n",
              "      <th>mean_test_score</th>\n",
              "      <th>std_test_score</th>\n",
              "    </tr>\n",
              "    <tr>\n",
              "      <th>rank_test_score</th>\n",
              "      <th></th>\n",
              "      <th></th>\n",
              "      <th></th>\n",
              "      <th></th>\n",
              "      <th></th>\n",
              "    </tr>\n",
              "  </thead>\n",
              "  <tbody>\n",
              "    <tr>\n",
              "      <th>1</th>\n",
              "      <td>2</td>\n",
              "      <td>0.05</td>\n",
              "      <td>{'model__max_depth': 2, 'model__learning_rate'...</td>\n",
              "      <td>0.60245</td>\n",
              "      <td>0.000015</td>\n",
              "    </tr>\n",
              "  </tbody>\n",
              "</table>\n",
              "</div>"
            ],
            "text/plain": [
              "                param_model__max_depth param_model__learning_rate  \\\n",
              "rank_test_score                                                     \n",
              "1                                    2                       0.05   \n",
              "\n",
              "                                                            params  \\\n",
              "rank_test_score                                                      \n",
              "1                {'model__max_depth': 2, 'model__learning_rate'...   \n",
              "\n",
              "                 mean_test_score  std_test_score  \n",
              "rank_test_score                                   \n",
              "1                        0.60245        0.000015  "
            ]
          },
          "execution_count": 49,
          "metadata": {},
          "output_type": "execute_result"
        },
        {
          "ename": "",
          "evalue": "",
          "output_type": "error",
          "traceback": [
            "\u001b[1;31mnotebook controller is DISPOSED. \n",
            "\u001b[1;31mView Jupyter <a href='command:jupyter.viewOutput'>log</a> for further details."
          ]
        },
        {
          "ename": "",
          "evalue": "",
          "output_type": "error",
          "traceback": [
            "\u001b[1;31mnotebook controller is DISPOSED. \n",
            "\u001b[1;31mView Jupyter <a href='command:jupyter.viewOutput'>log</a> for further details."
          ]
        }
      ],
      "source": [
        "df_random_final=pd.DataFrame(final_random.cv_results_).set_index(\"rank_test_score\").sort_index()\n",
        "df_random_final.loc[:,~df_random_final.columns.str.contains(\"split|time\")].head(1)"
      ]
    },
    {
      "cell_type": "code",
      "execution_count": null,
      "metadata": {},
      "outputs": [
        {
          "ename": "",
          "evalue": "",
          "output_type": "error",
          "traceback": [
            "\u001b[1;31mnotebook controller is DISPOSED. \n",
            "\u001b[1;31mView Jupyter <a href='command:jupyter.viewOutput'>log</a> for further details."
          ]
        },
        {
          "ename": "",
          "evalue": "",
          "output_type": "error",
          "traceback": [
            "\u001b[1;31mnotebook controller is DISPOSED. \n",
            "\u001b[1;31mView Jupyter <a href='command:jupyter.viewOutput'>log</a> for further details."
          ]
        }
      ],
      "source": [
        "pipe_xgbfinal = Pipeline([\n",
        "    (\"preprocessor\", preprocessor),\n",
        "    (\"gbc\", GradientBoostingClassifier(random_state=101, \n",
        "                          max_depth=2, learning_rate=0.3))\n",
        "]).fit(X_train, y_train)"
      ]
    },
    {
      "cell_type": "code",
      "execution_count": null,
      "metadata": {},
      "outputs": [
        {
          "data": {
            "text/plain": [
              "{'accuracy': 0.60245,\n",
              " 'balanced_accuracy': 0.5001283277119414,\n",
              " 'precision': 0.6025115069041425,\n",
              " 'recall': 0.9995020333637646,\n",
              " 'f1': 0.7518182101944626,\n",
              " 'roc-auc': 0.4956392063977972}"
            ]
          },
          "execution_count": 51,
          "metadata": {},
          "output_type": "execute_result"
        },
        {
          "ename": "",
          "evalue": "",
          "output_type": "error",
          "traceback": [
            "\u001b[1;31mnotebook controller is DISPOSED. \n",
            "\u001b[1;31mView Jupyter <a href='command:jupyter.viewOutput'>log</a> for further details."
          ]
        },
        {
          "ename": "",
          "evalue": "",
          "output_type": "error",
          "traceback": [
            "\u001b[1;31mnotebook controller is DISPOSED. \n",
            "\u001b[1;31mView Jupyter <a href='command:jupyter.viewOutput'>log</a> for further details."
          ]
        }
      ],
      "source": [
        "calculate_metrics(pipe_xgbfinal, X_test,y_test)"
      ]
    },
    {
      "cell_type": "code",
      "execution_count": null,
      "metadata": {},
      "outputs": [
        {
          "ename": "",
          "evalue": "",
          "output_type": "error",
          "traceback": [
            "\u001b[1;31mnotebook controller is DISPOSED. \n",
            "\u001b[1;31mView Jupyter <a href='command:jupyter.viewOutput'>log</a> for further details."
          ]
        },
        {
          "ename": "",
          "evalue": "",
          "output_type": "error",
          "traceback": [
            "\u001b[1;31mnotebook controller is DISPOSED. \n",
            "\u001b[1;31mView Jupyter <a href='command:jupyter.viewOutput'>log</a> for further details."
          ]
        }
      ],
      "source": [
        "with open(\"pipe_xgbfinal.pkl\",\"wb\") as file_model: # pode ser joblib tb\n",
        "    pickle.dump(pipe_xgbfinal,file_model)"
      ]
    }
  ],
  "metadata": {
    "colab": {
      "provenance": []
    },
    "kernelspec": {
      "display_name": "Python 3",
      "name": "python3"
    },
    "language_info": {
      "codemirror_mode": {
        "name": "ipython",
        "version": 3
      },
      "file_extension": ".py",
      "mimetype": "text/x-python",
      "name": "python",
      "nbconvert_exporter": "python",
      "pygments_lexer": "ipython3",
      "version": "3.9.18"
    }
  },
  "nbformat": 4,
  "nbformat_minor": 0
}
